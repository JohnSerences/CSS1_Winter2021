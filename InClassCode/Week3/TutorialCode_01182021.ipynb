{
  "nbformat": 4,
  "nbformat_minor": 0,
  "metadata": {
    "colab": {
      "name": "TutorialCode_01182021.ipynb",
      "provenance": [],
      "collapsed_sections": []
    },
    "kernelspec": {
      "name": "python3",
      "display_name": "Python 3"
    }
  },
  "cells": [
    {
      "cell_type": "markdown",
      "metadata": {
        "id": "Y1r-GrWCQ9OV"
      },
      "source": [
        "# Tutorial notes 01182021\n",
        "* Boolean logic and equivalence testing\n",
        "* If...elif...else control statements"
      ]
    },
    {
      "cell_type": "markdown",
      "metadata": {
        "id": "93lksJVBqsNv"
      },
      "source": [
        "## Equivalence testing and booleans\n",
        "* remember that a single = is the \"assignment\" operator, so x = y reads \"x is assigned y\"\n",
        "* the == syntax is a test for equivalence, so x==y reads \"does x equal y?\"\n"
      ]
    },
    {
      "cell_type": "code",
      "metadata": {
        "id": "suowzL7Nxn6x",
        "colab": {
          "base_uri": "https://localhost:8080/"
        },
        "outputId": "a74edfd0-fb34-4b0f-8f18-deaa96b7b6ab"
      },
      "source": [
        "0 == 0"
      ],
      "execution_count": 1,
      "outputs": [
        {
          "output_type": "execute_result",
          "data": {
            "text/plain": [
              "True"
            ]
          },
          "metadata": {
            "tags": []
          },
          "execution_count": 1
        }
      ]
    },
    {
      "cell_type": "code",
      "metadata": {
        "id": "iatYt_FKx4hl"
      },
      "source": [
        "0 == 1"
      ],
      "execution_count": null,
      "outputs": []
    },
    {
      "cell_type": "code",
      "metadata": {
        "id": "1Wa3DRJ-yGat"
      },
      "source": [
        "n = 'in'\n",
        "x = 'In'\n",
        "\n",
        "print(n==x)\n",
        "print(n.upper()==x.upper())"
      ],
      "execution_count": null,
      "outputs": []
    },
    {
      "cell_type": "markdown",
      "metadata": {
        "id": "gjwUt7mDTbre"
      },
      "source": [
        "### The \"not\" operator can be used to see if two expressions are not equivalent"
      ]
    },
    {
      "cell_type": "code",
      "metadata": {
        "id": "PSexZn_vynN0"
      },
      "source": [
        "# not operator\n",
        "n != x"
      ],
      "execution_count": null,
      "outputs": []
    },
    {
      "cell_type": "markdown",
      "metadata": {
        "id": "hLihloK7Tldn"
      },
      "source": [
        "### Greater than, less than"
      ]
    },
    {
      "cell_type": "code",
      "metadata": {
        "id": "2auGTwH9y4Ke"
      },
      "source": [
        "x = 5\n",
        "y = 6\n",
        "\n",
        "x < y"
      ],
      "execution_count": null,
      "outputs": []
    },
    {
      "cell_type": "markdown",
      "metadata": {
        "id": "6TA6w-XopAvI"
      },
      "source": [
        "### logical and, or\n",
        "* are x AND y both true? \n",
        "* is x OR y true?"
      ]
    },
    {
      "cell_type": "code",
      "metadata": {
        "id": "gxCdCaQWzE0Q"
      },
      "source": [
        "# logical and - will return true if and only if all statement eval to true\n",
        "x = 5\n",
        "y = 6\n",
        "z = 5\n",
        "w = 8\n",
        "\n",
        "x < y and z < w and y < w"
      ],
      "execution_count": null,
      "outputs": []
    },
    {
      "cell_type": "code",
      "metadata": {
        "id": "_idxCgqKzg-x"
      },
      "source": [
        "# logical or - will return true if ANY statement evals to true\n",
        "x = 5\n",
        "y = 6\n",
        "z = 5\n",
        "w = 8\n",
        "\n",
        "print(x > y or z < w)\n",
        "\n",
        "# can string together and and or operators...\n",
        "((x < y) and (z < w)) or (y > w)\n"
      ],
      "execution_count": null,
      "outputs": []
    },
    {
      "cell_type": "markdown",
      "metadata": {
        "id": "myZqtktqT1FK"
      },
      "source": [
        "## If...then statements\n",
        "* test a conditional statement, if true, then do one thing, if false, then do something else..."
      ]
    },
    {
      "cell_type": "code",
      "metadata": {
        "id": "nJGkKEKGT9tU"
      },
      "source": [
        "# simple example using if...else\n",
        "x = 5\n",
        "y = 3\n",
        "\n",
        "if (x < y):\n",
        "  print('harry wins!')\n",
        "else:\n",
        "  print('malfoy wins!')"
      ],
      "execution_count": null,
      "outputs": []
    },
    {
      "cell_type": "markdown",
      "metadata": {
        "id": "I6EH2dHfWfKo"
      },
      "source": [
        "### Indentation matters!\n",
        "* indentation is how Python figures out which statements belong to which part of a if...else structure "
      ]
    },
    {
      "cell_type": "code",
      "metadata": {
        "id": "tMG9RK-OWie-"
      },
      "source": [
        "# simple example using if...else\n",
        "x = 5\n",
        "y = 6\n",
        "\n",
        "if (x < y):\n",
        "  print('thor wins!')\n",
        "\n",
        "else:\n",
        "  print('hulk wins!')\n",
        "\n",
        "print('En Dwi wins!')"
      ],
      "execution_count": null,
      "outputs": []
    },
    {
      "cell_type": "code",
      "metadata": {
        "id": "KCm1WwnNWnzR"
      },
      "source": [
        ""
      ],
      "execution_count": null,
      "outputs": []
    },
    {
      "cell_type": "markdown",
      "metadata": {
        "id": "1a3detXeUTPd"
      },
      "source": [
        "### If...elif...else syntax\n",
        "* used to test a series of conditionals"
      ]
    },
    {
      "cell_type": "code",
      "metadata": {
        "id": "lilq2IJXT8VW",
        "colab": {
          "base_uri": "https://localhost:8080/"
        },
        "outputId": "9fa9c9a1-97e6-423c-ac14-a2ce38e295ea"
      },
      "source": [
        "# set up a if...else statement\n",
        "names = ['zhi', 'renita', 'blake', 'vy']\n",
        "\n",
        "# set up the if...else\n",
        "# can combine with and and or as well\n",
        "for n in names:\n",
        "  if n == names[0]:\n",
        "    print('hi')\n",
        "  elif n == names[1]:\n",
        "    print('hello there') \n",
        "  elif n == names[2]:\n",
        "    print('see you')\n",
        "  else: \n",
        "    print('who is that???')"
      ],
      "execution_count": null,
      "outputs": [
        {
          "output_type": "stream",
          "text": [
            "hi\n",
            "hello there\n",
            "see you\n",
            "who is that???\n"
          ],
          "name": "stdout"
        }
      ]
    },
    {
      "cell_type": "markdown",
      "metadata": {
        "id": "8vCYC7E9JUJz"
      },
      "source": [
        "## Concatenating lists and \"lists in lists\" \n",
        "* Use the '+' operator to concatenate lists into a bigger list\n",
        "* You can make a list of strings or numbers (or both) which is what we've been doing mostly\n",
        "* You can make a list of lists! "
      ]
    },
    {
      "cell_type": "code",
      "metadata": {
        "id": "K3dalI2OJcb1"
      },
      "source": [
        "# make a few lists\n",
        "student1 = ['sabina', 19]\n",
        "student2 = ['valerie', 21]\n",
        "student3 = ['oleg', 27]"
      ],
      "execution_count": 1,
      "outputs": []
    },
    {
      "cell_type": "markdown",
      "metadata": {
        "id": "iYCp0FFsJuEw"
      },
      "source": [
        "### Now concatenate the lists into a longer list using the '+' operator\n"
      ]
    },
    {
      "cell_type": "code",
      "metadata": {
        "id": "4vlp8lkxJ9BH",
        "colab": {
          "base_uri": "https://localhost:8080/"
        },
        "outputId": "eebb2b3f-2dfd-4621-dce2-6bda3dce16e3"
      },
      "source": [
        "concat_list = student1 + student2 + student3\n",
        "\n",
        "# when you print, you'll see that you now a single list that contains all the names, ages\n",
        "print(concat_list)"
      ],
      "execution_count": 2,
      "outputs": [
        {
          "output_type": "stream",
          "text": [
            "['sabina', 19, 'valerie', 21, 'oleg', 27]\n"
          ],
          "name": "stdout"
        }
      ]
    },
    {
      "cell_type": "markdown",
      "metadata": {
        "id": "_m2D6FUKKPfD"
      },
      "source": [
        "### Now make a list of lists!"
      ]
    },
    {
      "cell_type": "code",
      "metadata": {
        "id": "p50aFU_7KSmT",
        "colab": {
          "base_uri": "https://localhost:8080/"
        },
        "outputId": "50202d2f-6860-4658-8397-8dae5a6f8d70"
      },
      "source": [
        "list_in_list = [student1, student2, student3]\n",
        "# compare the output here to the output above for 'concat_list' - you'll see that \n",
        "# list_in_list actually has three sub-lists in it\n",
        "print(list_in_list)"
      ],
      "execution_count": null,
      "outputs": [
        {
          "output_type": "stream",
          "text": [
            "[['sabina', 19], ['valerie', 21], ['oleg', 27]]\n"
          ],
          "name": "stdout"
        }
      ]
    },
    {
      "cell_type": "markdown",
      "metadata": {
        "id": "BfgAEsGoKjOu"
      },
      "source": [
        "### Indexing into a list of lists\n",
        "* use the [ ][ ] to index into lists of lists - the argument in the first set of brackets indicates which sub-list, and the argument in the second set of brackets indicates which element in that sub-list you want  "
      ]
    },
    {
      "cell_type": "code",
      "metadata": {
        "id": "NeM-O7XIK2yC",
        "colab": {
          "base_uri": "https://localhost:8080/"
        },
        "outputId": "e73c5720-750d-4290-88f4-4a8fe9b9aa3d"
      },
      "source": [
        "# this will print the first element of the first list in list_in_list\n",
        "print(list_in_list[0][0])\n",
        "\n",
        "# this will print the second element of the second list in list_in_list\n",
        "print(list_in_list[1][1])\n",
        "\n",
        "# this will print the first element of the third list in list_in_list\n",
        "print(list_in_list[2][0])\n",
        "\n",
        "# so...if you want to just increment the ages you can index into the age field in each of the sub-lists and add 2!\n"
      ],
      "execution_count": null,
      "outputs": [
        {
          "output_type": "stream",
          "text": [
            "sabina\n",
            "21\n",
            "oleg\n"
          ],
          "name": "stdout"
        }
      ]
    },
    {
      "cell_type": "markdown",
      "metadata": {
        "id": "YxbWn9CBB9KD"
      },
      "source": [
        "## Views vs copies\n",
        "* views share the same data\n",
        "  * so changing one will change the other\n",
        "* copies have independent data\n",
        "  * so changing one will not affect the other"
      ]
    },
    {
      "cell_type": "code",
      "metadata": {
        "id": "cP69FBch7cam",
        "colab": {
          "base_uri": "https://localhost:8080/"
        },
        "outputId": "d1e0b37c-bbe8-4aa4-818a-51dd54c034b8"
      },
      "source": [
        "# view vs copy\n",
        "\n",
        "# first create a list of numbers\n",
        "x = list(range(0,3))\n",
        "\n",
        "# create a view of the list\n",
        "# if you create a view, x and y will be referencing (looking at, referring to) the same data\n",
        "# here if you modify y, that will also change x\n",
        "y = x\n",
        "\n",
        "# should give the same output...\n",
        "print(x)\n",
        "print(y)\n",
        "   "
      ],
      "execution_count": null,
      "outputs": [
        {
          "output_type": "stream",
          "text": [
            "[0, 1, 2]\n",
            "[0, 1, 2]\n"
          ],
          "name": "stdout"
        }
      ]
    },
    {
      "cell_type": "markdown",
      "metadata": {
        "id": "_tWkeQj8232z"
      },
      "source": [
        "### Now modify y to see what happens to x\n",
        "* even though you don't explicitly change 'x', it changes because it refers to the same data as 'y'"
      ]
    },
    {
      "cell_type": "code",
      "metadata": {
        "id": "f_WclS5ylNqx",
        "colab": {
          "base_uri": "https://localhost:8080/"
        },
        "outputId": "4d3e5945-41cb-493d-e839-45282b8a8e0f"
      },
      "source": [
        "print('original x: ', x)\n",
        "y[0] = 10\n",
        "print('new x: ', x)\n",
        "print('new y: ', y)"
      ],
      "execution_count": null,
      "outputs": [
        {
          "output_type": "stream",
          "text": [
            "original x:  [0, 1, 2]\n",
            "new x:  [10, 1, 2]\n",
            "new y:  [10, 1, 2]\n"
          ],
          "name": "stdout"
        }
      ]
    },
    {
      "cell_type": "markdown",
      "metadata": {
        "id": "Zm3z9CBylGnW"
      },
      "source": [
        "### **Copy** - independent variable that is separate from the original \n",
        "* slicing and then re-assigning to a new variable automatically makes a copy, not a view\n",
        "* can also use the copy() method"
      ]
    },
    {
      "cell_type": "code",
      "metadata": {
        "id": "mELfEpQIlIw5",
        "colab": {
          "base_uri": "https://localhost:8080/"
        },
        "outputId": "9420d07d-6fc1-49f5-b2bf-ad2652de2ec2"
      },
      "source": [
        "# create a copy this time, which will make \n",
        "# an indepent object y that contains its own\n",
        "# copy of the data in x\n",
        "x = list(range(0,3))\n",
        "y = x[:]   # slicing makes a copy!\n",
        "# y = x.copy()\n",
        "\n",
        "y[0] = 10\n",
        "\n",
        "print(x)\n",
        "print(y)"
      ],
      "execution_count": null,
      "outputs": [
        {
          "output_type": "stream",
          "text": [
            "[0, 1, 2]\n",
            "[10, 1, 2]\n"
          ],
          "name": "stdout"
        }
      ]
    },
    {
      "cell_type": "markdown",
      "metadata": {
        "id": "47sb723b9E8g"
      },
      "source": [
        "## Tuple object type\n",
        "* tuples are like lists, but they are immutable. \n",
        "* use the ()\n",
        "* can't sort as they are immutable (so no sort method), but can use the general 'sorted()' function\n"
      ]
    },
    {
      "cell_type": "code",
      "metadata": {
        "id": "x03XRVZ19IL_",
        "colab": {
          "base_uri": "https://localhost:8080/"
        },
        "outputId": "ad9601c1-aa70-42a9-a649-6c8196ddd155"
      },
      "source": [
        "# make a tuple using () (instead of [] for a list)\n",
        "a_tuple = ('john', 'enrique', 'mariela')\n",
        "\n",
        "print(a_tuple[1])\n",
        "\n",
        "# can't modify contents\n",
        "# a_tuple[0] = 'bob'\n",
        "# print(a_tuple)\n",
        "\n",
        "# but you can reasign it. \n",
        "a_tuple = ('adnan', 'shreya', 'ralph')\n",
        "print(a_tuple)"
      ],
      "execution_count": null,
      "outputs": [
        {
          "output_type": "stream",
          "text": [
            "enrique\n",
            "('adnan', 'shreya', 'ralph')\n"
          ],
          "name": "stdout"
        }
      ]
    },
    {
      "cell_type": "markdown",
      "metadata": {
        "id": "fPA85EBNgkt9"
      },
      "source": [
        "### Tuple packing/unpacking\n",
        "* When writing functions (will learn about soon), you can only return one variable\n",
        "* however, that variable can be a tuple, allowing you to actually return multiple variables, all packed into one tuple object\n",
        "* **need to be really careful when unpacking - if you get the wrong variable in the wrong place, it will still work but then you might swap name/age (or whatever your variables are)**"
      ]
    },
    {
      "cell_type": "code",
      "metadata": {
        "id": "y79KKzrUgn-Z",
        "colab": {
          "base_uri": "https://localhost:8080/"
        },
        "outputId": "1eca6413-0a73-463f-8a7e-88365c95e961"
      },
      "source": [
        "# set up a tuple to store user info\n",
        "usr_data = ('John', 41, 'CA')\n",
        "print(usr_data)"
      ],
      "execution_count": null,
      "outputs": [
        {
          "output_type": "stream",
          "text": [
            "('John', 41, 'CA')\n"
          ],
          "name": "stdout"
        }
      ]
    },
    {
      "cell_type": "code",
      "metadata": {
        "id": "xwwgm9YOgvQ8",
        "colab": {
          "base_uri": "https://localhost:8080/"
        },
        "outputId": "d5700e25-acbb-4385-a1c7-c605faa7c447"
      },
      "source": [
        "# unpack the tuple into the 'pieces'...\n",
        "(name, age, residence) = usr_data\n",
        "\n",
        "# bad\n",
        "# (age, name, residence) = usr_data\n",
        "\n",
        "print('name:', name)\n",
        "print('age:', age)\n",
        "print('residence:', residence)"
      ],
      "execution_count": null,
      "outputs": [
        {
          "output_type": "stream",
          "text": [
            "name: John\n",
            "age: 41\n",
            "residence: CA\n"
          ],
          "name": "stdout"
        }
      ]
    }
  ]
}