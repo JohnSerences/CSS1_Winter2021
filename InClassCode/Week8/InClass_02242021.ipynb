{
 "cells": [
  {
   "cell_type": "markdown",
   "metadata": {
    "id": "4Pb-5xC-LEKK"
   },
   "source": [
    "## More notes about Pandas Series"
   ]
  },
  {
   "cell_type": "code",
   "execution_count": null,
   "metadata": {
    "id": "V5h75qkKAwBO"
   },
   "outputs": [],
   "source": [
    "import random as random\n",
    "import pandas as pd"
   ]
  },
  {
   "cell_type": "markdown",
   "metadata": {
    "id": "de-qByJROPjJ"
   },
   "source": [
    "## quick note about using the index labels"
   ]
  },
  {
   "cell_type": "code",
   "execution_count": null,
   "metadata": {
    "id": "bRfbiC1TOS-V"
   },
   "outputs": [],
   "source": [
    "# made some data and some labels\n",
    "x = [1,6,3,7]\n",
    "labels = ['D1', 'D2', 'D3', 'D4']\n",
    "\n",
    "# the first time let pandas assign the labels (0...N-1)\n",
    "s = pd.Series(x)"
   ]
  },
  {
   "cell_type": "code",
   "execution_count": null,
   "metadata": {
    "colab": {
     "base_uri": "https://localhost:8080/"
    },
    "id": "98Ju7RrMOco6",
    "outputId": "f56113c8-1312-4b8b-e90a-24720676405c"
   },
   "outputs": [],
   "source": [
    "# now you can index into the labels like this\n",
    "# it looks just like you're indexing based on position\n",
    "# but really you're indexing based on label! \n",
    "# (the labels just happen to be numbers)\n",
    "s[0:3]"
   ]
  },
  {
   "cell_type": "code",
   "execution_count": null,
   "metadata": {
    "id": "6eMsPrvEOiBc"
   },
   "outputs": [],
   "source": [
    "# now do it with the labels specified in \"l\"\n",
    "x = [1,6,3,7]\n",
    "labels = ['D1', 'D2', 'D3', 'D4']\n",
    "\n",
    "s = pd.Series(x, index = labels)"
   ]
  },
  {
   "cell_type": "code",
   "execution_count": null,
   "metadata": {
    "colab": {
     "base_uri": "https://localhost:8080/"
    },
    "id": "LWlBmm01OtYI",
    "outputId": "b41a720b-6b77-487d-e315-fa50156dafb9"
   },
   "outputs": [],
   "source": [
    "# same idea (start, stop, step), but use the index labels!\n",
    "s['D1':'D5':2]"
   ]
  },
  {
   "cell_type": "markdown",
   "metadata": {
    "id": "gwQA4LctO8KX"
   },
   "source": [
    "## now lets do a more complex example to make a few more points..."
   ]
  },
  {
   "cell_type": "code",
   "execution_count": null,
   "metadata": {
    "id": "0Z2LF2ALAgtT"
   },
   "outputs": [],
   "source": [
    "# set the 'pseudo' random number generator\n",
    "random.seed(2)\n",
    "\n",
    "N = 10\n",
    "\n",
    "data1=[]\n",
    "data2=[]\n",
    "\n",
    "# fill up arrays\n",
    "for i in range(0,N):\n",
    "  data1.append(random.randint(0,10))\n",
    "  data2.append(random.randint(2,12))\n",
    "\n",
    "# make some labels\n",
    "labels = []\n",
    "for i in range(0,N):\n",
    "  labels.append('Samp' + str(i))"
   ]
  },
  {
   "cell_type": "markdown",
   "metadata": {
    "id": "wNSXIbSNFp4X"
   },
   "source": [
    "## make two series\n",
    "* lets shuffle the labels before making each series - so they'll have all the same labels but in a different order\n",
    "* we're doing this to illustrate the \"shuffle\" method, but also to make a point about how series keep track of data"
   ]
  },
  {
   "cell_type": "code",
   "execution_count": null,
   "metadata": {
    "id": "jp_sKkIpBB-s"
   },
   "outputs": [],
   "source": [
    "# shuffle labels, make the series\n",
    "random.shuffle(labels)\n",
    "s1 = pd.Series(data1, index = labels)\n",
    "\n",
    "# shuffle labels, make the series\n",
    "random.shuffle(labels)\n",
    "s2 = pd.Series(data2, index = labels)"
   ]
  },
  {
   "cell_type": "code",
   "execution_count": null,
   "metadata": {
    "colab": {
     "base_uri": "https://localhost:8080/"
    },
    "id": "iYdjEqhCHlbQ",
    "outputId": "840b3a43-39af-4c2a-b48f-638a3c845705"
   },
   "outputs": [],
   "source": [
    "s1"
   ]
  },
  {
   "cell_type": "code",
   "execution_count": null,
   "metadata": {
    "colab": {
     "base_uri": "https://localhost:8080/"
    },
    "id": "dUZ959T5CLQk",
    "outputId": "125169f5-c23f-448a-c536-ed2cbdaaac81"
   },
   "outputs": [],
   "source": [
    "# do simple operations\n",
    "s1+s2\n",
    "# s1['Samp0']+s2['Samp0']"
   ]
  },
  {
   "cell_type": "code",
   "execution_count": null,
   "metadata": {
    "colab": {
     "base_uri": "https://localhost:8080/"
    },
    "id": "kr5g5T6WDAxT",
    "outputId": "944e309e-b8b7-4c1e-d20a-5f792e08a89a"
   },
   "outputs": [],
   "source": [
    "# use booleans to index into series\n",
    "s1==9"
   ]
  },
  {
   "cell_type": "code",
   "execution_count": null,
   "metadata": {
    "colab": {
     "base_uri": "https://localhost:8080/"
    },
    "id": "oFwnlmxbDS6B",
    "outputId": "bb072bf2-ab45-468f-cdb7-a9c39bb81eb1"
   },
   "outputs": [],
   "source": [
    "ind = (s1==9)\n",
    "ind = ((s1==9) | (s1==8))\n",
    "s1[ind]"
   ]
  },
  {
   "cell_type": "markdown",
   "metadata": {
    "id": "VvCsRqpWFd7t"
   },
   "source": [
    "### test for an item \"in\" the series\n",
    "* tricky, cause it will default to operating on the index (labels)\n",
    "* but can directly access the values"
   ]
  },
  {
   "cell_type": "code",
   "execution_count": null,
   "metadata": {
    "colab": {
     "base_uri": "https://localhost:8080/"
    },
    "id": "jgThW1FGE2DB",
    "outputId": "a5736d4b-b8cb-4419-a278-50a87734b4d8"
   },
   "outputs": [],
   "source": [
    "9 in s1     #no - will operate on labels\n",
    "# 9 in s1.values  # yes! operates on the values"
   ]
  },
  {
   "cell_type": "markdown",
   "metadata": {
    "id": "Vys3fVDbEq5t"
   },
   "source": [
    "## make a new series from an old one\n",
    "* or reassign to modify the current series\n",
    "* handy if you want to filter the data"
   ]
  },
  {
   "cell_type": "code",
   "execution_count": null,
   "metadata": {
    "colab": {
     "base_uri": "https://localhost:8080/"
    },
    "id": "XwfEFOTFDgPc",
    "outputId": "6bf50b75-6072-4ce4-a783-5af991a79c5e"
   },
   "outputs": [],
   "source": [
    "s3 = s1[s1!=9]\n",
    "\n",
    "#s3 = s1[s1>=4]\n",
    "s3\n",
    "# can even reassign to itself to create a modified series\n",
    "# s1 = s1[s1!=3]"
   ]
  }
 ],
 "metadata": {
  "colab": {
   "collapsed_sections": [],
   "name": "Tutorial Code Week 9.ipynb",
   "provenance": []
  },
  "kernelspec": {
   "display_name": "Python 3",
   "language": "python",
   "name": "python3"
  },
  "language_info": {
   "codemirror_mode": {
    "name": "ipython",
    "version": 3
   },
   "file_extension": ".py",
   "mimetype": "text/x-python",
   "name": "python",
   "nbconvert_exporter": "python",
   "pygments_lexer": "ipython3",
   "version": "3.8.5"
  }
 },
 "nbformat": 4,
 "nbformat_minor": 1
}
