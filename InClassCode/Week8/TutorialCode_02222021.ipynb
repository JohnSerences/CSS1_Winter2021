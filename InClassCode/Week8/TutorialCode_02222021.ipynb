{
 "cells": [
  {
   "cell_type": "markdown",
   "metadata": {
    "id": "Xj9467MOP3qn"
   },
   "source": [
    "## Basic data structures - start with Series then build up to DataFrames\n",
    "\n",
    "[Pandas quick start guide for Series](https://pandas.pydata.org/pandas-docs/stable/dsintro.html#series)\n",
    "\n",
    "* A **Series** is a 1D array that can hold any type of data (numeric types, non-numeric, Python objects and so forth).\n",
    "    * Each entry is **labeled** with an index that is used to keep track of what each entry is, and can be used to lookup the value corresponding to each index during analysis (remember keys in dictionaries? similar idea)\n",
    "    * These labels are fixed - they will always index the same value unless you explicitly break that link.\n",
    "    * The list of labels that forms the index can either be declared upon series creation or, by default, it will range from 0 to len(data)-1.\n",
    "        * If you're going to use Pandas to organize your data, specifying usable and informative labels is a good idea because that's one of the main advantages of organizing your data in this manner\n",
    "        \n",
    "\n",
    "**Warning**. Pandas will allow you to specify non-unique labels. This can be ok for operations that don't rely on indexing by label. However, operations that do rely on unique labels for indexing may lead to unexpected problems so in general its good practice to use unique labels!\n"
   ]
  },
  {
   "cell_type": "markdown",
   "metadata": {
    "id": "rfoyifY6P3qo"
   },
   "source": [
    "## Import Pandas and random"
   ]
  },
  {
   "cell_type": "code",
   "execution_count": null,
   "metadata": {
    "id": "vb5enlUrP3qp"
   },
   "outputs": [],
   "source": [
    "# import a generic pandas object and also a few specific functions that we'll use\n",
    "import pandas as pd\n",
    "import random as random"
   ]
  },
  {
   "cell_type": "markdown",
   "metadata": {
    "id": "KZdF7oqJP3qt"
   },
   "source": [
    "## Create a series of data stored in a list, and then make a set of index labels"
   ]
  },
  {
   "cell_type": "code",
   "execution_count": null,
   "metadata": {
    "colab": {
     "base_uri": "https://localhost:8080/"
    },
    "id": "Kx3RdPn6P3qu",
    "outputId": "d105f529-0c5a-408a-b106-12fb423da91f"
   },
   "outputs": [],
   "source": [
    "# For this simulation, lets have 12 subjects, and some data\n",
    "# generated psuedo-randomly from a uniform distribution\n",
    "N = 12\n",
    "\n",
    "# generate N random numbers\n",
    "data=[]\n",
    "for i in range(N):\n",
    "  data.append(random.randint(1,10))\n",
    "\n",
    "# have a look\n",
    "print(data)"
   ]
  },
  {
   "cell_type": "markdown",
   "metadata": {
    "id": "FQa7_0r2sjuu"
   },
   "source": [
    "## Make a list of subject names for use as index labels\n"
   ]
  },
  {
   "cell_type": "code",
   "execution_count": null,
   "metadata": {
    "colab": {
     "base_uri": "https://localhost:8080/"
    },
    "id": "dgIppzM6r4pZ",
    "outputId": "001d27c3-c8c8-4cc7-8f8b-0de18913a116"
   },
   "outputs": [],
   "source": [
    "label_prefix = 'Sub'\n",
    "index=[]\n",
    "for n in range(0,N):\n",
    "    index.append(label_prefix+str(n))    \n",
    "    \n",
    "# print our list of index labels\n",
    "print('Index labels: ', index, '\\n')"
   ]
  },
  {
   "cell_type": "markdown",
   "metadata": {
    "id": "9koBP1iushfV"
   },
   "source": [
    "## Then make our Pandas Series by passing in our data array and our index labels"
   ]
  },
  {
   "cell_type": "code",
   "execution_count": null,
   "metadata": {
    "id": "yuuHwjk2sgCS"
   },
   "outputs": [],
   "source": [
    "s = pd.Series(data, index=index)\n",
    "print(s)"
   ]
  },
  {
   "cell_type": "markdown",
   "metadata": {
    "id": "zGYKoEjtP3qx"
   },
   "source": [
    "## Note that each subject is now a field in the series and can be used to retrieve the corresponding value...there are a few ways to do this\n",
    "* can access by number\n",
    "* can access by field\n",
    "* can access by index label"
   ]
  },
  {
   "cell_type": "code",
   "execution_count": null,
   "metadata": {
    "id": "1l0YTipdrw8w"
   },
   "outputs": [],
   "source": [
    "print(s[0])"
   ]
  },
  {
   "cell_type": "code",
   "execution_count": null,
   "metadata": {
    "id": "kyD1RV9bP3qy"
   },
   "outputs": [],
   "source": [
    "# access by field\n",
    "print(s.Sub11)"
   ]
  },
  {
   "cell_type": "code",
   "execution_count": null,
   "metadata": {
    "id": "hHJNy5wBw3Sj"
   },
   "outputs": [],
   "source": [
    "# access by index label\n",
    "print(s['Sub0'])"
   ]
  },
  {
   "cell_type": "markdown",
   "metadata": {
    "id": "7mKM9zZaP3q1"
   },
   "source": [
    "## Can also use labels to check for membership or to index over labels"
   ]
  },
  {
   "cell_type": "code",
   "execution_count": null,
   "metadata": {
    "id": "uytQJM2GP3q2"
   },
   "outputs": [],
   "source": [
    "# check for membership\n",
    "print('Sub11' in s) "
   ]
  },
  {
   "cell_type": "markdown",
   "metadata": {
    "id": "kD6MHIw1t_0r"
   },
   "source": [
    "#### iterate over index labels\n"
   ]
  },
  {
   "cell_type": "code",
   "execution_count": null,
   "metadata": {
    "id": "Hd2Na95xt7Cs"
   },
   "outputs": [],
   "source": [
    "for i in s.index:\n",
    "  print(i)"
   ]
  },
  {
   "cell_type": "markdown",
   "metadata": {
    "id": "0a_7wQSlt9yR"
   },
   "source": [
    "#### iterate over values..."
   ]
  },
  {
   "cell_type": "code",
   "execution_count": null,
   "metadata": {
    "id": "lItQQN-1t8lq"
   },
   "outputs": [],
   "source": [
    "for v in s.values:\n",
    "  print(v)   "
   ]
  },
  {
   "cell_type": "code",
   "execution_count": null,
   "metadata": {
    "id": "7KlYA_dKP3q5"
   },
   "outputs": [],
   "source": [
    "# can also get to the values more directly like this:\n",
    "for d in s:\n",
    "  print(d)"
   ]
  },
  {
   "cell_type": "markdown",
   "metadata": {
    "id": "apgdqfvHP3q7"
   },
   "source": [
    "## Cover a few other optional (but important) parameters of the pd.Series call\n",
    "* dtype - default is to infer the data type (int32, float64, str, etc) based on the values in data\n",
    "    * However, can also explicitly declare the data\n",
    "    * This can be good if you want to, for example, re-cast the data to save space or to make types compatible\n",
    "    * But this may also have important negative consequences if not done thoughtfully!\n"
   ]
  },
  {
   "cell_type": "markdown",
   "metadata": {
    "id": "teTds80oP3rC"
   },
   "source": [
    "#### Example: change from int to str\n",
    "* Note that the dtype of series 's' is now an 'object'. This is the Pandas version of a Python 'str'\n"
   ]
  },
  {
   "cell_type": "markdown",
   "metadata": {
    "id": "UwLgLe0vfd95"
   },
   "source": [
    "## Make up some data and corresponding labels to play with"
   ]
  },
  {
   "cell_type": "code",
   "execution_count": null,
   "metadata": {
    "id": "NkR7OzFglJds"
   },
   "outputs": [],
   "source": [
    "data = [10, 23, 88, 43, 29]\n",
    "labels = [0,1,2,3,4]"
   ]
  },
  {
   "cell_type": "code",
   "execution_count": null,
   "metadata": {
    "id": "PMdUhFX0P3rC"
   },
   "outputs": [],
   "source": [
    "# make a series with the data array from above, but this time make it a str\n",
    "# instead of the inferred int64 type\n",
    "s = pd.Series(data, index=labels, dtype='str')\n",
    "\n",
    "# we're now\n",
    "# all set to do a bunch of str operations without having to deal with   \n",
    "# recasting each time we interact with the values in s\n",
    "print(s[0]=='10')"
   ]
  },
  {
   "cell_type": "markdown",
   "metadata": {
    "id": "DcXJdmizQUgs"
   },
   "source": [
    "### Re-make our series as int64 before moving on because we'll want them to be ints for the next several cells. \n",
    "\n",
    "\n"
   ]
  },
  {
   "cell_type": "code",
   "execution_count": null,
   "metadata": {
    "id": "We4cwONzm4qY"
   },
   "outputs": [],
   "source": [
    "s = pd.Series(data, index=labels, dtype='int64')"
   ]
  },
  {
   "cell_type": "markdown",
   "metadata": {
    "id": "p99msXG-P3rX"
   },
   "source": [
    "## Slicing a Pandas series\n",
    "* start, stop, step notation from lists..."
   ]
  },
  {
   "cell_type": "code",
   "execution_count": null,
   "metadata": {
    "id": "tdozOwATP3rZ"
   },
   "outputs": [],
   "source": [
    "# first 3 values - notice that you get the label along with the values\n",
    "print(s[:3])"
   ]
  },
  {
   "cell_type": "code",
   "execution_count": null,
   "metadata": {
    "id": "GlXOxiuYzOgx"
   },
   "outputs": [],
   "source": [
    "s[2:-1]    # 3rd entry to len(s)-1"
   ]
  },
  {
   "cell_type": "code",
   "execution_count": null,
   "metadata": {
    "id": "vNV4G8xsQk4K"
   },
   "outputs": [],
   "source": [
    "# reverse, etc\n",
    "s[::-1]"
   ]
  },
  {
   "cell_type": "code",
   "execution_count": null,
   "metadata": {
    "id": "uIguJ9d7QqBd"
   },
   "outputs": [],
   "source": [
    "# every other, etc\n",
    "s[::2]"
   ]
  },
  {
   "cell_type": "markdown",
   "metadata": {
    "id": "a5nWjbXvzSro"
   },
   "source": [
    "### Another example using more advanced slicing...\n",
    "* this is super handy when cleaning data to exclude outliers!\n"
   ]
  },
  {
   "cell_type": "code",
   "execution_count": null,
   "metadata": {
    "id": "Y2_QXICSzRO4"
   },
   "outputs": [],
   "source": [
    "s[s>=20]    #all entries greater than or equal to 30"
   ]
  },
  {
   "cell_type": "markdown",
   "metadata": {
    "id": "JaHzCjSamluu"
   },
   "source": [
    "### Find values within a range"
   ]
  },
  {
   "cell_type": "code",
   "execution_count": null,
   "metadata": {
    "id": "KHz8EhndRLo0"
   },
   "outputs": [],
   "source": [
    "s[(s>=20) & (s<=45)]"
   ]
  },
  {
   "cell_type": "markdown",
   "metadata": {
    "id": "yVlAJqrqKtN5"
   },
   "source": [
    "### There is also the 'between' method to find values within a range \n",
    "* the 'between' method will return True/False depending on whether each entry falls in between the bounds. \n",
    "* can then use that index to find values within a range!"
   ]
  },
  {
   "cell_type": "code",
   "execution_count": null,
   "metadata": {
    "id": "WCyFDsqMKJp5"
   },
   "outputs": [],
   "source": [
    "ind = s.between(23, 45, inclusive=False)\n",
    "s[ind]"
   ]
  },
  {
   "cell_type": "markdown",
   "metadata": {
    "id": "h-qgfvr2P3rU"
   },
   "source": [
    "## Series objects have many built in operations\n",
    "[list of attributes and methods](https://pandas.pydata.org/pandas-docs/version/0.23.4/generated/pandas.Series.html)"
   ]
  },
  {
   "cell_type": "code",
   "execution_count": null,
   "metadata": {
    "id": "OCM4_3vuy113"
   },
   "outputs": [],
   "source": [
    "# shouldn't need to re-run, but make sure that you've got int64 data here (and \n",
    "# not str)\n",
    "s = pd.Series(data, index=labels, dtype='int64')"
   ]
  },
  {
   "cell_type": "code",
   "execution_count": null,
   "metadata": {
    "id": "m1eVd91SP3rV"
   },
   "outputs": [],
   "source": [
    "# attributes\n",
    "print('Data Type: ', s.dtype)"
   ]
  },
  {
   "cell_type": "code",
   "execution_count": null,
   "metadata": {
    "id": "yGrb7yfMz2tX"
   },
   "outputs": [],
   "source": [
    "# basic methods\n",
    "print('Mean: ', s.mean(), ' Std:', s.std(), 'Max: ', s.max())"
   ]
  },
  {
   "cell_type": "code",
   "execution_count": null,
   "metadata": {
    "id": "pQv0rOk6z4jc"
   },
   "outputs": [],
   "source": [
    "# numerical derivative\n",
    "print('Diff: ', s.diff())"
   ]
  },
  {
   "cell_type": "markdown",
   "metadata": {
    "id": "Gr5XIXKwRfv5"
   },
   "source": [
    "## Find the mean of all values that fall within a range...\n",
    "* can also apply other methods to compute std, etc after filtering"
   ]
  },
  {
   "cell_type": "code",
   "execution_count": null,
   "metadata": {
    "colab": {
     "base_uri": "https://localhost:8080/",
     "height": 165
    },
    "id": "_fW8v7h_RkK9",
    "outputId": "6a2faeb1-73d4-4d2f-af2f-2eeaefb082d3"
   },
   "outputs": [],
   "source": [
    "s[(s>=10) & (s<=45)].mean()"
   ]
  }
 ],
 "metadata": {
  "colab": {
   "collapsed_sections": [],
   "name": "TutorialCode_02222021.ipynb",
   "provenance": []
  },
  "kernelspec": {
   "display_name": "Python 3",
   "language": "python",
   "name": "python3"
  },
  "language_info": {
   "codemirror_mode": {
    "name": "ipython",
    "version": 3
   },
   "file_extension": ".py",
   "mimetype": "text/x-python",
   "name": "python",
   "nbconvert_exporter": "python",
   "pygments_lexer": "ipython3",
   "version": "3.8.5"
  }
 },
 "nbformat": 4,
 "nbformat_minor": 1
}
