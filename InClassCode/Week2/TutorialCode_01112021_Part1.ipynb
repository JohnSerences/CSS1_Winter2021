{
  "nbformat": 4,
  "nbformat_minor": 0,
  "metadata": {
    "colab": {
      "name": "TutorialCode_01112021_Part1.ipynb",
      "provenance": [],
      "collapsed_sections": []
    },
    "kernelspec": {
      "name": "python3",
      "display_name": "Python 3"
    }
  },
  "cells": [
    {
      "cell_type": "markdown",
      "metadata": {
        "id": "0Zpl7pt2it4i"
      },
      "source": [
        "\r\n",
        "# InClass 01132020 - variable names, lists, slicing, for loops"
      ]
    },
    {
      "cell_type": "markdown",
      "metadata": {
        "id": "zKN5d6trizTc"
      },
      "source": [
        "## A few notes about legal variable names\n",
        "* A variable cannot start with a number.\n",
        "* Variables are case-sensitive (MyVar and myvar and myVar are all different!)\n",
        "* A variable has to start with a letter or an underscore\n",
        "* A variable can only contain letters, numbers, and underscores\n"
      ]
    },
    {
      "cell_type": "code",
      "metadata": {
        "id": "SWpbgeQfi2wS"
      },
      "source": [
        "# these two variables might be pronounced the same, but they are different! \n",
        "# python respects capitalization...so the cap \"V\" in the second makes it a \n",
        "# totally different object than the first variable\n",
        "myvar = 10\n",
        "myVar = 100\n",
        "print(myvar)\n",
        "print(myVar)"
      ],
      "execution_count": null,
      "outputs": []
    },
    {
      "cell_type": "markdown",
      "metadata": {
        "id": "3BNmtJk5zL_z"
      },
      "source": [
        "### can't start with a number"
      ]
    },
    {
      "cell_type": "code",
      "metadata": {
        "id": "I6YEL6Ohjeds"
      },
      "source": [
        "1var = 10"
      ],
      "execution_count": null,
      "outputs": []
    },
    {
      "cell_type": "markdown",
      "metadata": {
        "id": "ETr3xrIjEWig"
      },
      "source": [
        "## Lists - a collection that is ordered and changeable and allows duplicate members."
      ]
    },
    {
      "cell_type": "code",
      "metadata": {
        "id": "NUVxUCKAimIr",
        "colab": {
          "base_uri": "https://localhost:8080/"
        },
        "outputId": "7ea7823d-3344-471a-81ac-a04fd7586537"
      },
      "source": [
        "# this is a single string object, like we did last week \n",
        "\n",
        "a_str = 'john'\n",
        "print(a_str)"
      ],
      "execution_count": null,
      "outputs": [
        {
          "output_type": "stream",
          "text": [
            "john\n"
          ],
          "name": "stdout"
        }
      ]
    },
    {
      "cell_type": "code",
      "metadata": {
        "id": "V7KsBZ1L_qIy",
        "colab": {
          "base_uri": "https://localhost:8080/"
        },
        "outputId": "c0dad5f5-a798-4ea7-9eea-c4eda4ef99e8"
      },
      "source": [
        "# introduction to lists - in this case a list of strings!\n",
        "names = ['bob', 'vy', 'sunyoung', 'maggie']\n",
        "\n",
        "# we start indexing with 0!!!\n",
        "# so this is the first name\n",
        "print(names[0])\n",
        "\n",
        "# this is the 3rd name...etc\n",
        "print(names[2])"
      ],
      "execution_count": null,
      "outputs": [
        {
          "output_type": "stream",
          "text": [
            "bob\n",
            "sunyoung\n"
          ],
          "name": "stdout"
        }
      ]
    },
    {
      "cell_type": "markdown",
      "metadata": {
        "id": "LhFMXWIz82eO"
      },
      "source": [
        "#### If you want to find the last element in a list and you don't know how long the list is, then just start indexing from the end.\n",
        "* -1 is the last element\n",
        "* -3 is the third to last, etc."
      ]
    },
    {
      "cell_type": "code",
      "metadata": {
        "id": "vhJcl_IQ9CZZ",
        "colab": {
          "base_uri": "https://localhost:8080/"
        },
        "outputId": "e18c88e7-cc44-41fd-e2e1-e56d723ea050"
      },
      "source": [
        "print(names[-1])\n",
        "print(names[-3])"
      ],
      "execution_count": null,
      "outputs": [
        {
          "output_type": "stream",
          "text": [
            "maggie\n",
            "vy\n"
          ],
          "name": "stdout"
        }
      ]
    },
    {
      "cell_type": "markdown",
      "metadata": {
        "id": "vTG4qEdwK6Da"
      },
      "source": [
        "## you can also make a list using a bunch of str variables"
      ]
    },
    {
      "cell_type": "code",
      "metadata": {
        "id": "J99Jr6zOipO-",
        "colab": {
          "base_uri": "https://localhost:8080/"
        },
        "outputId": "802db921-b1d4-4bc9-c94e-fff69a8abeab"
      },
      "source": [
        "str1 = 'bob'\n",
        "str2 = 'vy'\n",
        "str3 = 'sunyoung'\n",
        "names = [str1, str2, str3]\n",
        "print(names[1])\n",
        "\n",
        "# this is handy if you later want to re-use the same variables to make another list\n",
        "names2 = [str3, str2, str1]"
      ],
      "execution_count": null,
      "outputs": [
        {
          "output_type": "stream",
          "text": [
            "vy\n"
          ],
          "name": "stdout"
        }
      ]
    },
    {
      "cell_type": "markdown",
      "metadata": {
        "id": "aQjO_TeMkM6V"
      },
      "source": [
        "## sorting a list\n",
        "* sort() is a **method** - or a function that is specifically associated with this object type\n",
        "* the sort method modifies the list\n",
        "* there is also a \"sorted\" function that does not modify the list...instead, you assign the output of the sorted function to another variable (another list)"
      ]
    },
    {
      "cell_type": "code",
      "metadata": {
        "id": "M8RB7fPyAyqz",
        "colab": {
          "base_uri": "https://localhost:8080/"
        },
        "outputId": "4ccdbceb-e3c0-46e7-fded-bb6a83f60eea"
      },
      "source": [
        "names = ['toyota', 'ford', 'honda']\n",
        "\n",
        "# perm sort a list in alpha order\n",
        "# this will alter 'names' (can't undo)\n",
        "names.sort()\n",
        "print(names)"
      ],
      "execution_count": null,
      "outputs": [
        {
          "output_type": "stream",
          "text": [
            "['ford', 'toyota']\n"
          ],
          "name": "stdout"
        }
      ]
    },
    {
      "cell_type": "markdown",
      "metadata": {
        "id": "DJd8eNRsibe9"
      },
      "source": [
        "### sort without modifying using the sorted function\n",
        "* note that sorted is a general use **function** that can be used across multiple object types, not just for lists"
      ]
    },
    {
      "cell_type": "code",
      "metadata": {
        "id": "ljf2lIOgihP5",
        "colab": {
          "base_uri": "https://localhost:8080/"
        },
        "outputId": "e9f62c42-dcf2-483d-be5b-c3cc1ba4a96c"
      },
      "source": [
        "names = ['john', 'vy', 'sunyoung', 'maggie']\n",
        "# sort without modifying\n",
        "print(sorted(names))\n",
        "print(names)"
      ],
      "execution_count": null,
      "outputs": [
        {
          "output_type": "stream",
          "text": [
            "['john', 'maggie', 'sunyoung', 'vy']\n",
            "['john', 'vy', 'sunyoung', 'maggie']\n"
          ],
          "name": "stdout"
        }
      ]
    },
    {
      "cell_type": "markdown",
      "metadata": {
        "id": "PM0GOfpbkl4Y"
      },
      "source": [
        "## Remove (delete) an item from a list"
      ]
    },
    {
      "cell_type": "code",
      "metadata": {
        "id": "aLIciuPtBoNn"
      },
      "source": [
        "# redefine names list\n",
        "names = ['john', 'vy', 'sunyoung', 'maggie']\n",
        "\n",
        "print(names)\n",
        "\n",
        "# remove items from a list\n",
        "# remove first item...\n",
        "del names[0]\n",
        "print(names)"
      ],
      "execution_count": null,
      "outputs": []
    },
    {
      "cell_type": "markdown",
      "metadata": {
        "id": "c96oxnL1kgyE"
      },
      "source": [
        "## Pop an item from a list and assign to another variable"
      ]
    },
    {
      "cell_type": "code",
      "metadata": {
        "id": "2xOwl4jXkjgx",
        "colab": {
          "base_uri": "https://localhost:8080/"
        },
        "outputId": "ac539338-e054-4395-92c3-d737fe17a2cf"
      },
      "source": [
        "# redefine names list\n",
        "names = ['john', 'vy', 'sunyoung', 'maggie']\n",
        "\n",
        "# pop an item - can also pass index to pop() method (e.g. pop(1))\n",
        "last_name = names.pop()\n",
        "print(last_name)\n",
        "\n",
        "print(names)"
      ],
      "execution_count": null,
      "outputs": [
        {
          "output_type": "stream",
          "text": [
            "maggie\n",
            "['john', 'vy', 'sunyoung']\n"
          ],
          "name": "stdout"
        }
      ]
    },
    {
      "cell_type": "markdown",
      "metadata": {
        "id": "6V7q_DkslcHt"
      },
      "source": [
        "## Quick intro to 'range' function \n",
        "* Create a sequence of numbers\n",
        "* non-inclusive of stop value"
      ]
    },
    {
      "cell_type": "code",
      "metadata": {
        "id": "0Rr8bxX8lkfp",
        "colab": {
          "base_uri": "https://localhost:8080/"
        },
        "outputId": "61e9fc63-a1a8-41b8-c91a-ca61ac99b05d"
      },
      "source": [
        "x = range(0,15)\n",
        "print(x[-1])"
      ],
      "execution_count": null,
      "outputs": [
        {
          "output_type": "stream",
          "text": [
            "14\n"
          ],
          "name": "stdout"
        }
      ]
    },
    {
      "cell_type": "markdown",
      "metadata": {
        "id": "UvbCny6Vl3EY"
      },
      "source": [
        "### Make a list using the range function..."
      ]
    },
    {
      "cell_type": "code",
      "metadata": {
        "id": "YMuQEgwlltDe",
        "colab": {
          "base_uri": "https://localhost:8080/"
        },
        "outputId": "53aab3ab-71c8-4288-a331-30b46612a183"
      },
      "source": [
        "# 0-14 (non inclusive of the last number!)\n",
        "x = list(range(0,15))\n",
        "print(x)"
      ],
      "execution_count": null,
      "outputs": [
        {
          "output_type": "stream",
          "text": [
            "[0, 1, 2, 3, 4, 5, 6, 7, 8, 9, 10, 11, 12, 13, 14]\n"
          ],
          "name": "stdout"
        }
      ]
    },
    {
      "cell_type": "markdown",
      "metadata": {
        "id": "uHuPuaTo9_Lf"
      },
      "source": [
        "### Start value, stop value, step value\n",
        "* make a sequence that increments/decrements at a specified step size"
      ]
    },
    {
      "cell_type": "code",
      "metadata": {
        "id": "M7dxYedLxlG8",
        "colab": {
          "base_uri": "https://localhost:8080/"
        },
        "outputId": "b2d59e1d-29f7-4a37-9eb6-4a5b007794e2"
      },
      "source": [
        "skip_num = list(range(0,100,20))\n",
        "print(skip_num)\n",
        "\n",
        "skip_num = list(range(30,0,-10))\n",
        "print(skip_num)"
      ],
      "execution_count": null,
      "outputs": [
        {
          "output_type": "stream",
          "text": [
            "[0, 20, 40, 60, 80]\n",
            "[30, 20, 10]\n"
          ],
          "name": "stdout"
        }
      ]
    }
  ]
}