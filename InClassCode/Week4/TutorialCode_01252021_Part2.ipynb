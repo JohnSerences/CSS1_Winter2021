{
 "cells": [
  {
   "cell_type": "markdown",
   "metadata": {
    "id": "v4TWbJon6Imm"
   },
   "source": [
    "## Dictionaries\n",
    "* A dictionary is an **unordered** collection of key, value pairs.\n",
    "* Each key-value pair is separated by a colon : and each key is separated by a comma.\n",
    "* Example - you build an app and you ask each user to register when they download it.\n",
    "  * You know you want to collect user's name, email and age (and only that information). \n",
    "  * A dictionary is a good way to store this information, and you can access the user data using the corresponding \"key\" or label that you assigned. \n",
    "  * Because you interact with a dictionary via the \"key\", the order of the key,values pairs doesn't matter!"
   ]
  },
  {
   "cell_type": "markdown",
   "metadata": {
    "id": "eBBZsCR8zC3W"
   },
   "source": [
    "## Recall that with a list you have just one value in each position"
   ]
  },
  {
   "cell_type": "code",
   "execution_count": null,
   "metadata": {
    "colab": {
     "base_uri": "https://localhost:8080/",
     "height": 36
    },
    "id": "FShCeCJN6N4L",
    "outputId": "5f49e69c-0cea-4a2e-8fb6-a79ed7ea7cc6"
   },
   "outputs": [
    {
     "data": {
      "application/vnd.google.colaboratory.intrinsic+json": {
       "type": "string"
      },
      "text/plain": [
       "'ella'"
      ]
     },
     "execution_count": 1,
     "metadata": {
      "tags": []
     },
     "output_type": "execute_result"
    }
   ],
   "source": [
    "names = ['john', 'ella']\n",
    "names[1]"
   ]
  },
  {
   "cell_type": "markdown",
   "metadata": {
    "id": "b8HnfV_nzQKT"
   },
   "source": [
    "## Dictionary - store a set of key, value pairs\n",
    "* use {} to denote a dictionary object\n",
    "* index by key"
   ]
  },
  {
   "cell_type": "code",
   "execution_count": null,
   "metadata": {
    "colab": {
     "base_uri": "https://localhost:8080/"
    },
    "id": "D0Y5DvRe6qm8",
    "outputId": "5b561537-2e56-4f83-fd37-9eaac9d6f1b9"
   },
   "outputs": [
    {
     "name": "stdout",
     "output_type": "stream",
     "text": [
      "41\n"
     ]
    }
   ],
   "source": [
    "d = {'john':41, 'ella':12}\n",
    "\n",
    "# index by key is ok\n",
    "print(d['john'])\n",
    "\n",
    "# but indexing by position won't work\n",
    "# print(d[0])\n",
    "\n",
    "# nor will indexing by value...\n",
    "# print(d[41])"
   ]
  },
  {
   "cell_type": "markdown",
   "metadata": {
    "id": "BSNSOh-GlKwi"
   },
   "source": [
    "### Note: Remember that because you interact with a dictionary via the \"key\", the order of the key,values pairs doesn't matter!"
   ]
  },
  {
   "cell_type": "code",
   "execution_count": null,
   "metadata": {
    "colab": {
     "base_uri": "https://localhost:8080/"
    },
    "id": "jkNd9AxXlRK8",
    "outputId": "d45bd19b-0a9e-4c03-dc38-d0e64beb2161"
   },
   "outputs": [
    {
     "name": "stdout",
     "output_type": "stream",
     "text": [
      "41\n"
     ]
    }
   ],
   "source": [
    "# no functional impact of swapping the order of entry\n",
    "d = {'ella':12, 'john':41}\n",
    "# index by key...\n",
    "print(d['john'])"
   ]
  },
  {
   "cell_type": "markdown",
   "metadata": {
    "id": "gW6FHzcSwpo0"
   },
   "source": [
    "## Can also use the \"dict\" function to make a dictionary object \n",
    "* simple example here (could also use the {} syntax for this...)"
   ]
  },
  {
   "cell_type": "code",
   "execution_count": null,
   "metadata": {
    "colab": {
     "base_uri": "https://localhost:8080/"
    },
    "id": "PnJT3esV8K1v",
    "outputId": "5be9ce25-0760-45a7-9c8c-6da35df16b97"
   },
   "outputs": [
    {
     "name": "stdout",
     "output_type": "stream",
     "text": [
      "Padres\n"
     ]
    }
   ],
   "source": [
    "d = dict(SD='Padres', SF='Giants')\n",
    "print(d['SD'])"
   ]
  },
  {
   "cell_type": "markdown",
   "metadata": {
    "id": "Kr_GqhwbwfRC"
   },
   "source": [
    "### Use the \"dict\" constructor to convert list of tuples to dictionary\n",
    "* Could also make a dictionary out of a list of lists (this is where the dict function comes in handy) \n"
   ]
  },
  {
   "cell_type": "code",
   "execution_count": null,
   "metadata": {
    "colab": {
     "base_uri": "https://localhost:8080/"
    },
    "id": "xF52nc567vQg",
    "outputId": "a0ada03d-8c19-42eb-a992-f3ccc4319628"
   },
   "outputs": [
    {
     "name": "stdout",
     "output_type": "stream",
     "text": [
      "('SF', 'Giants')\n",
      "Giants\n"
     ]
    }
   ],
   "source": [
    "list_of_tuples = [('SD', 'Padres'), ('SF', 'Giants')]\n",
    "print(list_of_tuples[1])\n",
    "d = dict(list_of_tuples)\n",
    "print(d['SF'])"
   ]
  },
  {
   "cell_type": "markdown",
   "metadata": {
    "id": "A6gp5vaTw72l"
   },
   "source": [
    "## Methods associated with dictionaries\n",
    "* many, but a few handy ones: clear, get, pop"
   ]
  },
  {
   "cell_type": "code",
   "execution_count": null,
   "metadata": {
    "colab": {
     "base_uri": "https://localhost:8080/"
    },
    "id": "ivlwmQ4_8g_7",
    "outputId": "ba783e30-04fd-494d-a828-9e91bf6e70d5"
   },
   "outputs": [
    {
     "name": "stdout",
     "output_type": "stream",
     "text": [
      "{'SD': 'Padres', 'SF': 'Giants'}\n",
      "{}\n"
     ]
    }
   ],
   "source": [
    "d = dict(SD='Padres', SF='Giants')\n",
    "\n",
    "print(d)\n",
    "d.clear()\n",
    "print(d)"
   ]
  },
  {
   "cell_type": "markdown",
   "metadata": {
    "id": "iDOCUFTwlcTn"
   },
   "source": [
    "## Pop method - returns the **value** associated with the requested key, and removes the key,value pair from the dictionary"
   ]
  },
  {
   "cell_type": "code",
   "execution_count": null,
   "metadata": {
    "colab": {
     "base_uri": "https://localhost:8080/"
    },
    "id": "lTQuZBD0Zhlt",
    "outputId": "f3f7d00e-5c19-4ae7-abf6-643d28a07950"
   },
   "outputs": [
    {
     "name": "stdout",
     "output_type": "stream",
     "text": [
      "Padres\n",
      "{'SF': 'Giants'}\n"
     ]
    }
   ],
   "source": [
    "d = dict(SD='Padres', SF='Giants')\n",
    "\n",
    "x = d.pop('SD')\n",
    "print(x)\n",
    "print(d)"
   ]
  },
  {
   "cell_type": "markdown",
   "metadata": {
    "id": "hvkGfpL6mDGI"
   },
   "source": [
    "### popitem() method will return the **key, value pair** as a tuple and then remove the key,value pair from the dictionary\n",
    "* In Python v3.7 and later, popitem removes the last item entered\n",
    "* In earlier versions it will remove a random item"
   ]
  },
  {
   "cell_type": "code",
   "execution_count": null,
   "metadata": {
    "colab": {
     "base_uri": "https://localhost:8080/"
    },
    "id": "OwfmCGtll8Dj",
    "outputId": "4e37dfe1-050e-40c9-bb1b-6135d90dc4ed"
   },
   "outputs": [
    {
     "name": "stdout",
     "output_type": "stream",
     "text": [
      "('SF', 'Giants')\n"
     ]
    }
   ],
   "source": [
    "d = dict(SD='Padres', SF='Giants')\n",
    "\n",
    "kv = d.popitem()\n",
    "print(kv)"
   ]
  },
  {
   "cell_type": "markdown",
   "metadata": {
    "id": "JlTQyzlXzhGV"
   },
   "source": [
    "## Asking for a key that isn't in the list\n",
    "* can use the get method to see if something is in a list...\n",
    "* will return 'None' if key,value pair not present, but will not throw an error - can be handy sometimes if you're not sure what's in the list but you don't want program execution to halt if you mistakenly ask for the wrong thing..."
   ]
  },
  {
   "cell_type": "code",
   "execution_count": null,
   "metadata": {
    "colab": {
     "base_uri": "https://localhost:8080/"
    },
    "id": "88aTVSJb8vsu",
    "outputId": "5badd351-fb71-42ff-dac7-cb375c28653f"
   },
   "outputs": [
    {
     "name": "stdout",
     "output_type": "stream",
     "text": [
      "None\n"
     ]
    }
   ],
   "source": [
    "d = dict(SD='padres', SF='giants')\n",
    "\n",
    "# this will throw an error\n",
    "# d['LA']\n",
    "\n",
    "# this will return None and keep going. \n",
    "print(d.get('LA'))"
   ]
  },
  {
   "cell_type": "markdown",
   "metadata": {
    "id": "m6106BCv719Z"
   },
   "source": [
    "### Example of d.get()\n",
    "* Looping through a set of potential key values, and not sure if they are actually in the dictionary"
   ]
  },
  {
   "cell_type": "code",
   "execution_count": null,
   "metadata": {
    "colab": {
     "base_uri": "https://localhost:8080/"
    },
    "id": "WYz9W5nA75K0",
    "outputId": "5dc10533-00e9-4548-f5cc-d442fae90d1d"
   },
   "outputs": [
    {
     "name": "stdout",
     "output_type": "stream",
     "text": [
      "None\n",
      "padres\n",
      "giants\n"
     ]
    }
   ],
   "source": [
    "keys_to_search = ['LA', 'SD', 'SF']\n",
    "for i in range(0,3):\n",
    "  print(d.get(keys_to_search[i]))\n",
    " # print(d[keys_to_search[i]])\n"
   ]
  },
  {
   "cell_type": "markdown",
   "metadata": {
    "id": "QmUjlVyeZvoe"
   },
   "source": [
    "## 'Update' will merge two dictionaries - note what happens to redundant entries! \n"
   ]
  },
  {
   "cell_type": "code",
   "execution_count": null,
   "metadata": {
    "colab": {
     "base_uri": "https://localhost:8080/"
    },
    "id": "pX8R67GF9xcn",
    "outputId": "227ddb6f-06d2-4419-ac03-80b1085ed224"
   },
   "outputs": [
    {
     "name": "stdout",
     "output_type": "stream",
     "text": [
      "{'john': 28, 'ella': 11, 'jack': 9, 'vy': 25}\n"
     ]
    }
   ],
   "source": [
    "d1 = {'john':41, 'ella':11}\n",
    "d2 = {'jack':9, 'vy':25, 'john':28}\n",
    "\n",
    "# update or merge the two...\n",
    "d1.update(d2)\n",
    "print(d1)  # how old is john????"
   ]
  },
  {
   "cell_type": "markdown",
   "metadata": {
    "id": "4VzI1AtZmZ7i"
   },
   "source": [
    "### Separately get the keys and values and return as 'dict_keys' and 'dict_values' objects\n",
    "* can convert these to indexible lists "
   ]
  },
  {
   "cell_type": "code",
   "execution_count": null,
   "metadata": {
    "colab": {
     "base_uri": "https://localhost:8080/",
     "height": 252
    },
    "id": "RJI9MW12-T4Q",
    "outputId": "f81e422c-cae3-433b-8236-72a377243088"
   },
   "outputs": [
    {
     "name": "stdout",
     "output_type": "stream",
     "text": [
      "dict_keys(['UCSD', 'Irvine', 'Merced'])\n"
     ]
    },
    {
     "ename": "TypeError",
     "evalue": "ignored",
     "output_type": "error",
     "traceback": [
      "\u001b[0;31m---------------------------------------------------------------------------\u001b[0m",
      "\u001b[0;31mTypeError\u001b[0m                                 Traceback (most recent call last)",
      "\u001b[0;32m<ipython-input-12-ada302bcfacc>\u001b[0m in \u001b[0;36m<module>\u001b[0;34m()\u001b[0m\n\u001b[1;32m      5\u001b[0m \u001b[0;34m\u001b[0m\u001b[0m\n\u001b[1;32m      6\u001b[0m \u001b[0;31m# can't index into this\u001b[0m\u001b[0;34m\u001b[0m\u001b[0;34m\u001b[0m\u001b[0;34m\u001b[0m\u001b[0m\n\u001b[0;32m----> 7\u001b[0;31m \u001b[0mschools\u001b[0m\u001b[0;34m[\u001b[0m\u001b[0;36m0\u001b[0m\u001b[0;34m]\u001b[0m\u001b[0;34m\u001b[0m\u001b[0;34m\u001b[0m\u001b[0m\n\u001b[0m\u001b[1;32m      8\u001b[0m \u001b[0;34m\u001b[0m\u001b[0m\n\u001b[1;32m      9\u001b[0m \u001b[0;31m# but can convert to a list!\u001b[0m\u001b[0;34m\u001b[0m\u001b[0;34m\u001b[0m\u001b[0;34m\u001b[0m\u001b[0m\n",
      "\u001b[0;31mTypeError\u001b[0m: 'dict_keys' object does not support indexing"
     ]
    }
   ],
   "source": [
    "uc_enrollment = {'UCSD':35816, 'Irvine':27331, 'Merced':6815}\n",
    "\n",
    "schools = uc_enrollment.keys()\n",
    "print(schools)\n",
    "\n",
    "# can't index into this \n",
    "schools[0]\n",
    "\n",
    "# but can convert to a list!\n",
    "school_list = list(schools)\n",
    "print(school_list[0])"
   ]
  },
  {
   "cell_type": "markdown",
   "metadata": {
    "id": "VVYE_c1B9shc"
   },
   "source": [
    "### get just the values\n"
   ]
  },
  {
   "cell_type": "code",
   "execution_count": null,
   "metadata": {
    "id": "ZryugmUAnlR7"
   },
   "outputs": [],
   "source": [
    "num_students = uc_enrollment.values()\n",
    "print(num_students)"
   ]
  },
  {
   "cell_type": "markdown",
   "metadata": {
    "id": "0Kzxqt2bMNN2"
   },
   "source": [
    "## Can get the combined key,value pairs using the items() method"
   ]
  },
  {
   "cell_type": "code",
   "execution_count": null,
   "metadata": {
    "id": "-WpmGahm-8XO"
   },
   "outputs": [],
   "source": [
    "# use items to loop over key/value pairs. \n",
    "for k, v in uc_enrollment.items():\n",
    "  print(k)\n",
    "  print(v)"
   ]
  },
  {
   "cell_type": "markdown",
   "metadata": {
    "id": "3n4GMR8sQSXI"
   },
   "source": [
    "## More advanced indexing (and storing function names in a list/dictionary)"
   ]
  },
  {
   "cell_type": "code",
   "execution_count": null,
   "metadata": {
    "id": "yxf10f0-QeJS"
   },
   "outputs": [],
   "source": [
    "my_stuff = ['Minnie', [21, 19], sorted, sum, [100, 20, 20]]\n",
    "\n",
    "# 2nd entry of the 5th element in my_stuff\n",
    "my_stuff[4][1]\n",
    "\n",
    "# sort the list 21,19\n",
    "my_stuff[2](my_stuff[1])\n",
    "\n",
    "# sum of 20+20\n",
    "my_stuff[3](my_stuff[4][-2:])"
   ]
  }
 ],
 "metadata": {
  "colab": {
   "collapsed_sections": [],
   "name": "TutorialCode_01252021_Part2.ipynb",
   "provenance": []
  },
  "kernelspec": {
   "display_name": "Python 3",
   "language": "python",
   "name": "python3"
  },
  "language_info": {
   "codemirror_mode": {
    "name": "ipython",
    "version": 3
   },
   "file_extension": ".py",
   "mimetype": "text/x-python",
   "name": "python",
   "nbconvert_exporter": "python",
   "pygments_lexer": "ipython3",
   "version": "3.8.5"
  }
 },
 "nbformat": 4,
 "nbformat_minor": 1
}
