{
 "cells": [
  {
   "cell_type": "markdown",
   "metadata": {
    "id": "DaVL9g12u8h9"
   },
   "source": [
    "# New Stuff: list comprehensions\n"
   ]
  },
  {
   "cell_type": "markdown",
   "metadata": {
    "id": "912c7RWE0ZsU"
   },
   "source": [
    "## List comprehensions\n",
    "* effecient syntax for manipulating information in an existing list and assigning to a new list\n",
    "* Syntax: for each element in an existing list: do some operation and assign the output to a new list  "
   ]
  },
  {
   "cell_type": "code",
   "execution_count": null,
   "metadata": {
    "colab": {
     "base_uri": "https://localhost:8080/"
    },
    "id": "l-diFU4IhFFx",
    "outputId": "26e8f437-3421-47c3-b232-6004f2359c6e"
   },
   "outputs": [
    {
     "name": "stdout",
     "output_type": "stream",
     "text": [
      "[0, 1, 4, 9, 16, 25]\n"
     ]
    }
   ],
   "source": [
    "# long way to square a list of numbers using a 'for loop' \n",
    "list_num = list(range(0,6))\n",
    "\n",
    "# initialize a list of length(list_num) to store the squred values\n",
    "square_num = []\n",
    "\n",
    "# for loop to square each value and to fill up our square_num list\n",
    "for num in list_num:\n",
    "  square_num.append(num**2)\n",
    "\n",
    "print(square_num)"
   ]
  },
  {
   "cell_type": "markdown",
   "metadata": {
    "id": "qdARDfDGh63M"
   },
   "source": [
    "### The list comprehension way to do the same thing in more compact notation\n",
    "* syntax: new_list = [expression for each_item in old_list]\n",
    "* note the brackets [ ] - can remember because this is how you define a list (and here you are defining a new list to store the output)\n"
   ]
  },
  {
   "cell_type": "code",
   "execution_count": null,
   "metadata": {
    "colab": {
     "base_uri": "https://localhost:8080/"
    },
    "id": "t7auZbJ_0dKR",
    "outputId": "8e25033e-2d5e-45b9-be50-a5f45302d659"
   },
   "outputs": [
    {
     "name": "stdout",
     "output_type": "stream",
     "text": [
      "[0, 1, 4, 9, 16, 25]\n"
     ]
    }
   ],
   "source": [
    "list_num = list(range(0,6))\n",
    "\n",
    "square_num = [num**2 for num in list_num]\n",
    "\n",
    "print(square_num)"
   ]
  },
  {
   "cell_type": "markdown",
   "metadata": {
    "id": "PYdc0gukgdAr"
   },
   "source": [
    "## Evaluate an equation over a set of numbers (like y = mx + b)"
   ]
  },
  {
   "cell_type": "code",
   "execution_count": null,
   "metadata": {
    "colab": {
     "base_uri": "https://localhost:8080/"
    },
    "id": "TQwlMffsghYg",
    "outputId": "af2a9255-3fb7-4514-86ee-4af2d25c5a3d"
   },
   "outputs": [
    {
     "name": "stdout",
     "output_type": "stream",
     "text": [
      "[7.0, 7.5, 8.0, 8.5, 9.0, 9.5, 10.0, 10.5, 11.0, 11.5]\n"
     ]
    }
   ],
   "source": [
    "# x range over whic to eval the equation \n",
    "x_vals = range(0,10)\n",
    "m = .5\n",
    "b = 7\n",
    "\n",
    "# here it is!\n",
    "y = [((m*x)+b) for x in x_vals]\n",
    "\n",
    "print(y)"
   ]
  },
  {
   "cell_type": "markdown",
   "metadata": {
    "id": "GQitOgHXig2p"
   },
   "source": [
    "### Another slightly more complex example"
   ]
  },
  {
   "cell_type": "code",
   "execution_count": null,
   "metadata": {
    "colab": {
     "base_uri": "https://localhost:8080/"
    },
    "id": "E7JKo_c9igCT",
    "outputId": "3c3ad61d-4821-46dd-ae85-3fc10a20069c"
   },
   "outputs": [
    {
     "name": "stdout",
     "output_type": "stream",
     "text": [
      "43336\n"
     ]
    }
   ],
   "source": [
    "# eval the sum of squared differences between f1 and f1**2 \n",
    "some_function = range(-10,10)\n",
    "\n",
    "# compute sum of squares...\n",
    "y = [(f-(f**2))**2 for f in some_function]\n",
    "\n",
    "# then take the sum\n",
    "print(sum(y))"
   ]
  },
  {
   "cell_type": "markdown",
   "metadata": {
    "id": "14eOO6tWio3U"
   },
   "source": [
    "### Using methods in a list comprehension"
   ]
  },
  {
   "cell_type": "code",
   "execution_count": null,
   "metadata": {
    "colab": {
     "base_uri": "https://localhost:8080/"
    },
    "id": "Vp6BF9EXPJIC",
    "outputId": "6a67298e-e072-483f-eed1-8cab1917ef2d"
   },
   "outputs": [
    {
     "name": "stdout",
     "output_type": "stream",
     "text": [
      "['SABINA', 'LORRAINE', 'MADISON']\n"
     ]
    }
   ],
   "source": [
    "names = ['sabina', 'lorraine', 'madison']\n",
    "\n",
    "title_name = [name.upper() for name in names]\n",
    "\n",
    "# print caps of first letter of each name\n",
    "print(title_name)"
   ]
  },
  {
   "cell_type": "markdown",
   "metadata": {
    "id": "KdoZBu0za8nD"
   },
   "source": [
    "### Another example, but operate on only one character in each string in the list"
   ]
  },
  {
   "cell_type": "code",
   "execution_count": null,
   "metadata": {
    "colab": {
     "base_uri": "https://localhost:8080/"
    },
    "id": "sQeKQXE12rwP",
    "outputId": "19fc0e50-3e08-4829-d5d3-dd93ecd333da"
   },
   "outputs": [
    {
     "name": "stdout",
     "output_type": "stream",
     "text": [
      "['J', 'R', 'R']\n"
     ]
    }
   ],
   "source": [
    "names = ['jolene', 'rui', 'rio']\n",
    "\n",
    "first_letter = [name[0].upper() for name in names]\n",
    "\n",
    "# print caps of first letter of each name\n",
    "print(first_letter)"
   ]
  },
  {
   "cell_type": "markdown",
   "metadata": {
    "id": "sBM-smdcxkU2"
   },
   "source": [
    "## Combine list comprehension with a if...statement\n",
    "* for an example, filter a list of bike manufacturers and find all that start with a 'c'so that you can show just some brands to a user...\n",
    "* first do it the traditional way...\n",
    "* then with a list comprehension"
   ]
  },
  {
   "cell_type": "code",
   "execution_count": null,
   "metadata": {
    "colab": {
     "base_uri": "https://localhost:8080/"
    },
    "id": "0RIUd0UexowX",
    "outputId": "d1ecde05-0187-41fc-ed31-638917e952a5"
   },
   "outputs": [
    {
     "name": "stdout",
     "output_type": "stream",
     "text": [
      "['cannondale', 'canyon', 'cervelo']\n"
     ]
    }
   ],
   "source": [
    "# traditional way...\n",
    "\n",
    "# start with a long \n",
    "all_bikes = ['cannondale', 'trek', 'specialized', 'giant', 'canyon', 'cervelo']\n",
    "\n",
    "# initialize empty list to store the output\n",
    "c_bikes = []\n",
    "\n",
    "for name in all_bikes:\n",
    "  if name[0]=='c':\n",
    "    c_bikes.append(name)\n",
    "\n",
    "print(c_bikes)"
   ]
  },
  {
   "cell_type": "code",
   "execution_count": null,
   "metadata": {
    "colab": {
     "base_uri": "https://localhost:8080/"
    },
    "id": "W7ewJ59EyMLG",
    "outputId": "d9b3cf8d-cce1-42b5-a8e9-6961f00228d6"
   },
   "outputs": [
    {
     "name": "stdout",
     "output_type": "stream",
     "text": [
      "['cannondale', 'canyon', 'cervelo']\n"
     ]
    }
   ],
   "source": [
    "# list comprehension way\n",
    "c_bikes = [name for name in all_bikes if \"c\" in name[0]]\n",
    "print(c_bikes)"
   ]
  }
 ],
 "metadata": {
  "colab": {
   "collapsed_sections": [],
   "name": "TutorialCode_01252021_Part1.ipynb",
   "provenance": []
  },
  "kernelspec": {
   "display_name": "Python 3",
   "language": "python",
   "name": "python3"
  },
  "language_info": {
   "codemirror_mode": {
    "name": "ipython",
    "version": 3
   },
   "file_extension": ".py",
   "mimetype": "text/x-python",
   "name": "python",
   "nbconvert_exporter": "python",
   "pygments_lexer": "ipython3",
   "version": "3.8.5"
  }
 },
 "nbformat": 4,
 "nbformat_minor": 1
}
