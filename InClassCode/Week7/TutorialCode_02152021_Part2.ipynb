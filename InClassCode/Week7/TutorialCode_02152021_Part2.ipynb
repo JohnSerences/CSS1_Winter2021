{
 "cells": [
  {
   "cell_type": "markdown",
   "metadata": {
    "id": "LBhPz6AzkTax"
   },
   "source": [
    "# File I/O and a few more notes about string formatting, along with some NumPy for binary files and the os module for dir info\n",
    "* How to read/write different file types - .txt, binary, json\n",
    "\n",
    "[useful link to Python Software Foundation doc](https://docs.python.org/3/tutorial/inputoutput.html)\n",
    "\n",
    "[link to colab specific file I/O info](https://colab.research.google.com/notebooks/io.ipynb#scrollTo=p2E4EKhCWEC5)"
   ]
  },
  {
   "cell_type": "markdown",
   "metadata": {
    "id": "rnxc3hvjkTay"
   },
   "source": [
    "## Quick notes on string formatting because we'll use this to generate some data files to read/write\n",
    "* With the str.format(), you pass in the index of the argument that we want to insert into each { } \n",
    "* The second number determines how many places we want to set aside for spacing the output. \n",
    "* Using this convention makes it easy to make neatly organized output using print or writing to a file"
   ]
  },
  {
   "cell_type": "code",
   "execution_count": null,
   "metadata": {
    "colab": {
     "base_uri": "https://localhost:8080/"
    },
    "id": "lPw2WTcMkTaz",
    "outputId": "152f226f-437f-445f-e924-d572683577b2"
   },
   "outputs": [],
   "source": [
    "for x in range(0, 11):\n",
    "  print('{0:2d} {1:4d} {2:5d}'.format(x, 2**x, 3**x))"
   ]
  },
  {
   "cell_type": "markdown",
   "metadata": {
    "id": "CAOUGUylkTa4"
   },
   "source": [
    "## Quick note about file I/O on Google Colab\n",
    "* Usually when we write a new file on a local install of Python (running e.g. Jupyter), the file will write directly to the current working directory\n",
    "* However, on Google Colab it will write to your 'content' folder, which can only be mounted in the virtual machine via a special authentication process\n",
    "* You can do this if you'd like, but I'm not sure I'd suggest it just for the purpose of this class because it will open all your drive files to the google file stream service - its probably fine, but its a decision you might want to investigate a bit more on your own. \n",
    "* If you ever do want to do this, use the code in the cell below - it will generate an authentication link and then you'll be able to mount the content drive and you can access google drive just like a local hard drive. "
   ]
  },
  {
   "cell_type": "code",
   "execution_count": null,
   "metadata": {
    "colab": {
     "base_uri": "https://localhost:8080/",
     "height": 571
    },
    "id": "APWoI21pkTa5",
    "outputId": "46ff1d98-740a-4723-c5ce-6765385b13ca"
   },
   "outputs": [],
   "source": [
    "# read the text cell above FIRST before running this code\n",
    "from google.colab import drive\n",
    "drive.mount('/content/drive')\n",
    "\n",
    "# %ls #line magic to list out the contents of the current working directory. "
   ]
  },
  {
   "cell_type": "markdown",
   "metadata": {
    "id": "V1KaGIumkTbH"
   },
   "source": [
    "### An alternate to mounting the drive locally...this will open a download dialog box that you can use to download any text files that you create if you want to view them"
   ]
  },
  {
   "cell_type": "code",
   "execution_count": null,
   "metadata": {
    "colab": {
     "base_uri": "https://localhost:8080/",
     "height": 17
    },
    "id": "Kf1ryJFJkTbJ",
    "outputId": "2c22f8ba-4ed5-4394-bc62-af7b7de848ae"
   },
   "outputs": [],
   "source": [
    "from google.colab import files\n",
    "# usage: see below, but here is the basic syntax\n",
    "files.download('test.txt')"
   ]
  },
  {
   "cell_type": "markdown",
   "metadata": {
    "id": "EvKPsgt-kTa8"
   },
   "source": [
    "## Open a file\n",
    "* open() creates a file object, and usually takes two arguments - a filename and the read mode\n",
    "\n",
    "* The first argument is the filename. The second argument describes how the file will be used - read mode ('r'), write mode('w'), read/write mode ('r+') or append mode ('a'). \n",
    "    * read mode 'r' will be assumed if the second arg is omitted\n",
    "    \n",
    "* By default, files are opened in text mode, so you're reading and writing strings to the file. \n",
    "\n",
    "* Binary mode is enabled by appending 'b' to the read/write/append arg (e.g. 'rb' is read binary).\n",
    "\n",
    "* In binary mode, you're reading/writing in units of bytes - this will often be the case for non txt files like image files and so forth"
   ]
  },
  {
   "cell_type": "code",
   "execution_count": null,
   "metadata": {
    "id": "-s60SsOqkTa8"
   },
   "outputs": [],
   "source": [
    "# for writing to a txt file\n",
    "# 'w' will overwrite the file with that name!\n",
    "f = open('test.txt', 'w')\n",
    "f.close()\n",
    "%ls"
   ]
  },
  {
   "cell_type": "code",
   "execution_count": null,
   "metadata": {
    "id": "1nN07CKGkTa_"
   },
   "outputs": [],
   "source": [
    "# for reading\n",
    "f = open('test.txt', 'r')\n",
    "f.close()"
   ]
  },
  {
   "cell_type": "code",
   "execution_count": null,
   "metadata": {
    "id": "OiMz5nkJkTbB"
   },
   "outputs": [],
   "source": [
    "# for appending\n",
    "f = open('test.txt', 'a')\n",
    "f.close()"
   ]
  },
  {
   "cell_type": "code",
   "execution_count": null,
   "metadata": {
    "id": "RV79aC3bkTbF"
   },
   "outputs": [],
   "source": [
    "# for reading or writing\n",
    "f = open('test.txt', 'r+')\n",
    "f.close()"
   ]
  },
  {
   "cell_type": "code",
   "execution_count": null,
   "metadata": {
    "id": "7gcZlQeu2qXy"
   },
   "outputs": [],
   "source": [
    "# for writing binary file\n",
    "f = open('test.bin', 'wb')\n",
    "f.close()"
   ]
  },
  {
   "cell_type": "markdown",
   "metadata": {
    "id": "r8TGGe6PkTbM"
   },
   "source": [
    "### Now lets try it out by actually writing something to the text files. \n",
    "* Note the use of the newline character in format statement!"
   ]
  },
  {
   "cell_type": "code",
   "execution_count": null,
   "metadata": {
    "colab": {
     "base_uri": "https://localhost:8080/",
     "height": 17
    },
    "id": "fdRV_y4NkTbN",
    "outputId": "26287d67-dbc0-4551-8530-c35160a022d0"
   },
   "outputs": [],
   "source": [
    "f = open('test.txt', 'w')\n",
    "for x in range(0, 11):\n",
    "  # include the \\n newline character - the text file will need that specified\n",
    "  # to properly know what line to put the text on\n",
    "  f.write('{0:2d} {1:4d} {2:5d}\\n'.format(x, 2**x, 3**x))\n",
    "  \n",
    "f.close()\n",
    "\n",
    "# download and take a look!\n",
    "# NOTE - if you're running windows then use WordPad instead of Notepad - Notepad\n",
    "# ignores newline chars\n",
    "files.download('test.txt')"
   ]
  },
  {
   "cell_type": "markdown",
   "metadata": {
    "id": "mfHdOwQY27Ix"
   },
   "source": [
    "## QUESTION: what happens if you don't close it? \n",
    "* Leaving too many things open is bad...lots of overhead\n",
    "* You're letting python clean up your mess...not a good idea.\n",
    "* Changes to the file may not into effect until you close it. This is big problem if you write to a file, then try to read from it...you may not see the stuff that you wrote. "
   ]
  },
  {
   "cell_type": "code",
   "execution_count": null,
   "metadata": {
    "colab": {
     "base_uri": "https://localhost:8080/",
     "height": 34
    },
    "id": "PW0mRJTskTbQ",
    "outputId": "b6720ae7-e09a-4604-9925-44c4a75534b9"
   },
   "outputs": [],
   "source": [
    "# a better way...this will ensure that the file is properly closed when you're \n",
    "# done dealing with it (as many errors are caused by failing to close a file after open)\n",
    "with open('test.txt', 'w') as f:\n",
    "  for x in range(0, 11):\n",
    "    # include the \\n newline character\n",
    "    f.write('{0:2d} {1:4d} {2:5d}\\n'.format(x, 2**x, 3**x))\n",
    "\n",
    "#check to see if its closed - should be beacuse we're outside the 'with' block\n",
    "print(f.closed)\n",
    "\n",
    "# download the file\n",
    "files.download('test.txt')"
   ]
  },
  {
   "cell_type": "markdown",
   "metadata": {
    "id": "-qdQKZEIkTbT"
   },
   "source": [
    "### The 'read' method - f.read(size)\n",
    "* Will read in **size** data from the file, where size is in terms of text or in terms of bytes (for binary read, more on that later)\n",
    "* If you leave this blank, then it will read the entire file. That can be very problematic if the file is REALLY big and explodes your computer. "
   ]
  },
  {
   "cell_type": "code",
   "execution_count": null,
   "metadata": {
    "id": "jGKncqWvkTbT"
   },
   "outputs": [],
   "source": [
    "# open our file for reading...\n",
    "with open('test.txt', 'r') as f:\n",
    "  # go ahead and read the entire file...\n",
    "  out = f.read()\n",
    "    \n",
    "# print it out\n",
    "print(out)"
   ]
  },
  {
   "cell_type": "code",
   "execution_count": null,
   "metadata": {
    "colab": {
     "base_uri": "https://localhost:8080/"
    },
    "id": "nr-GXpqJkTbX",
    "outputId": "696ea09e-3916-499e-c573-a369d8173386"
   },
   "outputs": [],
   "source": [
    "# open our file for reading...just grab 13 (one line in this case) elements and print\n",
    "with open('test.txt', 'r') as f:\n",
    "  out = f.read(13)\n",
    "    \n",
    "# print it out\n",
    "print(out)"
   ]
  },
  {
   "cell_type": "markdown",
   "metadata": {
    "id": "Y7mEFrFe14-i"
   },
   "source": [
    "## A better way to read a line of text...\n",
    "* Importance of newline character!"
   ]
  },
  {
   "cell_type": "code",
   "execution_count": null,
   "metadata": {
    "colab": {
     "base_uri": "https://localhost:8080/"
    },
    "id": "T0O_L1S3kTbZ",
    "outputId": "54c508ee-13a9-4dba-9a9f-92cfa9cbd2f5"
   },
   "outputs": [],
   "source": [
    "with open('test.txt', 'r') as f:\n",
    "  # read a line\n",
    "  out = f.readline()\n",
    "    \n",
    "# print it out\n",
    "print(out)"
   ]
  },
  {
   "cell_type": "markdown",
   "metadata": {
    "id": "L5QBkBC1XAky"
   },
   "source": [
    "### Loop line by line and print out...\n",
    "* \"end\" keyword defines what ends each line in the print statement - default is \n",
    "the newline char, and we already have that so we don't want to add it in again\n"
   ]
  },
  {
   "cell_type": "code",
   "execution_count": null,
   "metadata": {
    "id": "aeUq_2N2kTbc"
   },
   "outputs": [],
   "source": [
    "with open('test.txt', 'r') as f:\n",
    "  # loop over all lines\n",
    "  for line in f:\n",
    "    print(line, end='')"
   ]
  },
  {
   "cell_type": "markdown",
   "metadata": {
    "id": "QMvl3DZZlVY9"
   },
   "source": [
    "### Append mode"
   ]
  },
  {
   "cell_type": "code",
   "execution_count": null,
   "metadata": {
    "id": "kOijxds_lZpj"
   },
   "outputs": [],
   "source": [
    "# open our test.txt file and append to it - will just pick up where you left off!\n",
    "with open('test.txt', 'a') as f:\n",
    "  for x in range(0, 11):\n",
    "    # include the \\n newline character\n",
    "    f.write('{0:2d} {1:4d} {2:5d}\\n'.format(x, 2*x, 3*x))\n",
    "\n",
    "#confirm that its closed\n",
    "print(f.closed)\n",
    "files.download('test.txt')"
   ]
  },
  {
   "cell_type": "markdown",
   "metadata": {
    "id": "k0Qcfs81wEgt"
   },
   "source": [
    "### What happens when you try to write an integer to a text file?"
   ]
  },
  {
   "cell_type": "code",
   "execution_count": null,
   "metadata": {
    "colab": {
     "base_uri": "https://localhost:8080/",
     "height": 199
    },
    "id": "PCraRe4zwJmz",
    "outputId": "f9edc8ce-e645-47e7-db1f-981ecf3929a9"
   },
   "outputs": [],
   "source": [
    "# open a file for writing\n",
    "with open('test.txt', 'w') as f:\n",
    "  for x in range(0, 11):\n",
    "    f.write(x)"
   ]
  },
  {
   "cell_type": "markdown",
   "metadata": {
    "id": "KGJ5O-WakTbf"
   },
   "source": [
    "## Binary file I/O\n",
    "* So far we've just been dealing with text files where everything is a string (of characters)\n",
    "* Binary files are written in \"machine language\" that is denser and easier to interpret (for the machine, not for you!)\n",
    "* Can use bytearray to convert numbers over the range 0:255 to binary format"
   ]
  },
  {
   "cell_type": "code",
   "execution_count": null,
   "metadata": {
    "colab": {
     "base_uri": "https://localhost:8080/",
     "height": 17
    },
    "id": "pXYeLAkCvr6q",
    "outputId": "f0d7abba-c4ed-4bda-90c9-a7674e78ee75"
   },
   "outputs": [],
   "source": [
    "# open a file for writing binary\n",
    "with open('test.bin', 'wb') as f:\n",
    "  # generate a list of numbers, use bytearray to convert\n",
    "  # numbers over the range 0:255 to binary format\n",
    "  bytes_to_write = bytearray([0,1,2,3,4,5])\n",
    "\n",
    "  # write to file!\n",
    "  f.write(bytes_to_write)\n",
    "\n",
    "# have a look!\n",
    "files.download('test.bin')\n",
    "%pycat test.bin"
   ]
  },
  {
   "cell_type": "code",
   "execution_count": null,
   "metadata": {
    "colab": {
     "base_uri": "https://localhost:8080/"
    },
    "id": "gbEuUuOeyB9b",
    "outputId": "c1187821-d853-41d5-892e-e88b23460bf9"
   },
   "outputs": [],
   "source": [
    "# now read it back in\n",
    "with open('test.bin', 'rb') as f:\n",
    "  # remember that f.read() reads in the entire file...\n",
    "  bytes_read = f.read()\n",
    "\n",
    "# notice that f.read() returns the byte array as a string\n",
    "print(bytes_read)"
   ]
  },
  {
   "cell_type": "markdown",
   "metadata": {
    "id": "YrGEGBIR4eEi"
   },
   "source": [
    "## using the numpy \"fromfile\" method for easier binary read operations"
   ]
  },
  {
   "cell_type": "code",
   "execution_count": null,
   "metadata": {
    "id": "LDMZcmA55MFl"
   },
   "outputs": [],
   "source": [
    "import numpy as np"
   ]
  },
  {
   "cell_type": "code",
   "execution_count": null,
   "metadata": {
    "colab": {
     "base_uri": "https://localhost:8080/"
    },
    "id": "1quRZnG14irb",
    "outputId": "2fcf6f00-e4bc-4a46-bd8c-0789950b0e46"
   },
   "outputs": [],
   "source": [
    "with open('test.bin', 'rb') as f:\n",
    "  bytes_read = np.fromfile(f, dtype=np.int8)\n",
    "  #bytes_read = np.fromfile(f, dtype=np.int16)\n",
    "  \n",
    "print(bytes_read)"
   ]
  },
  {
   "cell_type": "markdown",
   "metadata": {
    "id": "ONdl2hFqo0w6"
   },
   "source": [
    "## JSON (JavaScript Object Notation) format\n",
    "* straightforward and standardized way of storing and exchanging data files\n",
    "* kind of like a csv or a txt file in nature, but more sophisticated\n",
    "* developed as a way of tranferring JavaScript objects between browsers and servers, but now frequently used for all types of data and languages\n",
    "* takes one of several data formats: \n",
    "  * objects (like dictionaries)\n",
    "  * arrays (like lists)\n",
    "  * values (string in double quotes or a number)\n",
    "  * strings (sequence of characters)\n",
    "\n",
    "[link to main page](http://json.org/)"
   ]
  },
  {
   "cell_type": "code",
   "execution_count": null,
   "metadata": {
    "id": "7TynSx0HwLJK"
   },
   "outputs": [],
   "source": [
    "# import json module\n",
    "import json"
   ]
  },
  {
   "cell_type": "code",
   "execution_count": null,
   "metadata": {
    "colab": {
     "base_uri": "https://localhost:8080/"
    },
    "id": "JV1qrCszs9bz",
    "outputId": "62a931bb-b84e-4b6c-8341-8cd7bac9cae5"
   },
   "outputs": [],
   "source": [
    "# build a dictionary with a bunch of different data types, including a sub list\n",
    "# of dictionaries\n",
    "user_profile = {\n",
    "  \"name\": \"John\",\n",
    "  \"age\": 30,\n",
    "  \"bicycle\": \"Giant\",\n",
    "}"
   ]
  },
  {
   "cell_type": "markdown",
   "metadata": {
    "id": "icaIIsvavBOO"
   },
   "source": [
    "### Now write a .json file to disk - very similar to file creating/writing that we did above"
   ]
  },
  {
   "cell_type": "code",
   "execution_count": null,
   "metadata": {
    "colab": {
     "base_uri": "https://localhost:8080/",
     "height": 17
    },
    "id": "BWciYSC1vADu",
    "outputId": "0052cfbb-901b-4c92-81f4-e310f3ed17a2"
   },
   "outputs": [],
   "source": [
    "with open('test.json', 'w') as f:\n",
    "  json.dump(user_profile, f)\n",
    "  \n",
    "files.download('test.json')"
   ]
  },
  {
   "cell_type": "markdown",
   "metadata": {
    "id": "k2VyOdmzH2GR"
   },
   "source": [
    "## Now load the json file back in!"
   ]
  },
  {
   "cell_type": "code",
   "execution_count": null,
   "metadata": {
    "colab": {
     "base_uri": "https://localhost:8080/",
     "height": 36
    },
    "id": "WCUk8w-DAPPA",
    "outputId": "c89049ff-1d3c-4d4c-f2c8-b5ee86059fcf"
   },
   "outputs": [],
   "source": [
    "with open('test.json', 'r') as f:\n",
    "  x = json.load(f)\n",
    "  \n",
    "# and you get back a dictionary\n",
    "x['bicycle']"
   ]
  }
 ],
 "metadata": {
  "colab": {
   "collapsed_sections": [],
   "name": "TutorialCode_02152021_Part2.ipynb",
   "provenance": []
  },
  "kernelspec": {
   "display_name": "Python 3",
   "language": "python",
   "name": "python3"
  },
  "language_info": {
   "codemirror_mode": {
    "name": "ipython",
    "version": 3
   },
   "file_extension": ".py",
   "mimetype": "text/x-python",
   "name": "python",
   "nbconvert_exporter": "python",
   "pygments_lexer": "ipython3",
   "version": "3.8.5"
  }
 },
 "nbformat": 4,
 "nbformat_minor": 1
}
