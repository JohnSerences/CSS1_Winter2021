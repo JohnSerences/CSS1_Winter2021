{
 "cells": [
  {
   "cell_type": "markdown",
   "metadata": {
    "id": "ZnXCl6ZxPpeE"
   },
   "source": [
    "# Key word arguments, line and cell magics, writing your own modules"
   ]
  },
  {
   "cell_type": "markdown",
   "metadata": {
    "id": "U3bZN72yD9Ap"
   },
   "source": [
    "## kwargs - accept an arbitrary number of keyword arguments (not just a fixed number of arguments with unknown size)\n"
   ]
  },
  {
   "cell_type": "code",
   "execution_count": null,
   "metadata": {
    "id": "CAZPFRQrG5o0"
   },
   "outputs": [],
   "source": [
    "def define_user(name, **info):\n",
    "  \"\"\"Accept user input for database\n",
    "  \n",
    "  input: \n",
    "    name - first name of user\n",
    "    **info - kwargs...other relevant info in form of a dictionary\n",
    "\n",
    "  returns:\n",
    "    dictionary with user info\n",
    "  \"\"\"\n",
    "  \n",
    "  # init a blank dictionary\n",
    "  user_info = {}\n",
    "  \n",
    "  user_info['name'] = name\n",
    "\n",
    "  # then loop over kwargs\n",
    "  for k, v in info.items():\n",
    "    user_info[k] = v\n",
    "    \n",
    "  return user_info"
   ]
  },
  {
   "cell_type": "markdown",
   "metadata": {
    "id": "YFBynRcIFCBn"
   },
   "source": [
    "### Can pass in arguments using keywords defined in the function call "
   ]
  },
  {
   "cell_type": "code",
   "execution_count": null,
   "metadata": {
    "colab": {
     "base_uri": "https://localhost:8080/"
    },
    "id": "Nvq_aXoaE5aI",
    "outputId": "8940692c-7634-4e2f-b417-f752afe97f2f"
   },
   "outputs": [],
   "source": [
    "usr_info = define_user('john', bike='giant', car='tacoma', house='hearst castle')\n",
    "usr_info"
   ]
  },
  {
   "cell_type": "markdown",
   "metadata": {
    "id": "wiNqzsjkDZ7K"
   },
   "source": [
    "## Magics are special functions that are supported by the IPython kernel (the thing that interprets your python code and turns it into something the machine can understand). \n",
    "* Different kernels have different magics.\n",
    "* Line magics are called using the % syntax\n",
    "* Cell magics, that operate on an entire cell worth of code, use the %% syntax\n",
    "* [link to good ref](https://ipython.readthedocs.io/en/stable/interactive/magics.html)"
   ]
  },
  {
   "cell_type": "markdown",
   "metadata": {
    "id": "1wUONKAaNK4g"
   },
   "source": [
    "### Some handy line magics\n",
    "* my favorite is 'timeit'"
   ]
  },
  {
   "cell_type": "code",
   "execution_count": null,
   "metadata": {
    "id": "YwB6CCPCcQQz"
   },
   "outputs": [],
   "source": [
    "import random"
   ]
  },
  {
   "cell_type": "code",
   "execution_count": null,
   "metadata": {
    "id": "V9vv54-wNOnQ"
   },
   "outputs": [],
   "source": [
    "# will work on the entire line of code that you enter...note that i'm sticking \n",
    "# the entire while... statement in one line here.\n",
    "%timeit for i in range(0,100):  x = random.random() * 10"
   ]
  },
  {
   "cell_type": "markdown",
   "metadata": {
    "id": "cooVP_CRdryF"
   },
   "source": [
    "### Can create an alias for a line magic\n",
    "* usually not such a great idea, but can be handy if you're re-using the same magic over and over again.\n",
    "* don't sacrifice short names for readability of code! "
   ]
  },
  {
   "cell_type": "code",
   "execution_count": null,
   "metadata": {
    "id": "5Iza3t_Odd0A"
   },
   "outputs": [],
   "source": [
    "%alias_magic t timeit"
   ]
  },
  {
   "cell_type": "code",
   "execution_count": null,
   "metadata": {
    "id": "NdlT8BhPdnPj"
   },
   "outputs": [],
   "source": [
    "%t for i in range(0,100):  x = random.random() * 10"
   ]
  },
  {
   "cell_type": "markdown",
   "metadata": {
    "id": "wqTnD89-dygQ"
   },
   "source": [
    "### Some others..."
   ]
  },
  {
   "cell_type": "markdown",
   "metadata": {
    "id": "xHvFoAk0e0oA"
   },
   "source": [
    "#### figure out the current directory (folder) that you are in"
   ]
  },
  {
   "cell_type": "code",
   "execution_count": null,
   "metadata": {
    "id": "qY6dLmg1d0ug"
   },
   "outputs": [],
   "source": [
    "%pwd"
   ]
  },
  {
   "cell_type": "markdown",
   "metadata": {
    "id": "MWxCYaohexm9"
   },
   "source": [
    "#### List the contents of the current folder"
   ]
  },
  {
   "cell_type": "code",
   "execution_count": null,
   "metadata": {
    "id": "NnJlFlh9ewXZ"
   },
   "outputs": [],
   "source": [
    "%ls"
   ]
  },
  {
   "cell_type": "markdown",
   "metadata": {
    "id": "JZm7hyQGfUCC"
   },
   "source": [
    "#### Change the current directory"
   ]
  },
  {
   "cell_type": "code",
   "execution_count": null,
   "metadata": {
    "id": "-6HPaG1tfa0F"
   },
   "outputs": [],
   "source": [
    "# drop down a level in the directory tree\n",
    "%cd ..\n",
    "%ls"
   ]
  },
  {
   "cell_type": "code",
   "execution_count": null,
   "metadata": {
    "id": "KZ3gdAjXfi3C"
   },
   "outputs": [],
   "source": [
    "# then go back to the content folder we were just in and list contents\n",
    "%cd /content/\n",
    "%ls "
   ]
  },
  {
   "cell_type": "markdown",
   "metadata": {
    "id": "KF8LGJ2iLeS1"
   },
   "source": [
    "### And 'who' - figure out what variables/functions are in memory"
   ]
  },
  {
   "cell_type": "code",
   "execution_count": null,
   "metadata": {
    "id": "-wDd3Eo4Ljeo"
   },
   "outputs": [],
   "source": [
    "%who"
   ]
  },
  {
   "cell_type": "markdown",
   "metadata": {
    "id": "PKGFMBcRLpIF"
   },
   "source": [
    "### And 'whos' gives even more details about type and data. It's generally more useful when you get used to it..."
   ]
  },
  {
   "cell_type": "code",
   "execution_count": null,
   "metadata": {
    "id": "vrbkiP-DLwHf"
   },
   "outputs": [],
   "source": [
    "%whos"
   ]
  },
  {
   "cell_type": "markdown",
   "metadata": {
    "id": "a8sqht0nNPBF"
   },
   "source": [
    "### Some handy cell magics"
   ]
  },
  {
   "cell_type": "code",
   "execution_count": null,
   "metadata": {
    "id": "3lTjs6i7NRqJ"
   },
   "outputs": [],
   "source": [
    "%%timeit\n",
    "i = 0\n",
    "x = 0\n",
    "for y in range(0,5):\n",
    "  x = i**2 + 10*random.random()"
   ]
  },
  {
   "cell_type": "markdown",
   "metadata": {
    "id": "Nq8YJ-j0gZvL"
   },
   "source": [
    "### Figure out all available line and cell magics on your kernel"
   ]
  },
  {
   "cell_type": "code",
   "execution_count": null,
   "metadata": {
    "id": "OFCYJLGjgA89"
   },
   "outputs": [],
   "source": [
    "%lsmagic"
   ]
  },
  {
   "cell_type": "markdown",
   "metadata": {
    "id": "M0TmGYjkI8uS"
   },
   "source": [
    "## modules! (libraries)"
   ]
  },
  {
   "cell_type": "markdown",
   "metadata": {
    "id": "4mgNGKEkCwae"
   },
   "source": [
    "## Define our own module to carry out some common math functions\n",
    "* use the writefile magic to write out the def of 4 functions to a .py file. \n",
    "* That .py file (which is really just a text file) will define the module and you can load it and gain access to the functions"
   ]
  },
  {
   "cell_type": "code",
   "execution_count": null,
   "metadata": {
    "id": "4MpaMEB2I_vO"
   },
   "outputs": [],
   "source": [
    "%%writefile math_tools.py\n",
    "\n",
    "def square(x):\n",
    "    y = x ** 2\n",
    "    return y\n",
    "\n",
    "def cubed(x):\n",
    "    y = x ** 3\n",
    "    return(y)\n",
    "\n",
    "def squrt(x):\n",
    "    y = x ** (1/2)\n",
    "    return(y)\n",
    "\n",
    "def times_ten(x):\n",
    "    y = x * 10\n",
    "    return(y)"
   ]
  },
  {
   "cell_type": "markdown",
   "metadata": {
    "id": "luvIj_wICtkO"
   },
   "source": [
    "## Show the contents of the module...in collab use the %pycat line magic"
   ]
  },
  {
   "cell_type": "code",
   "execution_count": null,
   "metadata": {
    "id": "jcSPXRRB6ExN"
   },
   "outputs": [],
   "source": [
    "%pycat math_tools.py"
   ]
  },
  {
   "cell_type": "code",
   "execution_count": null,
   "metadata": {
    "id": "rde5Ag0TF1kC"
   },
   "outputs": [],
   "source": [
    "%ls"
   ]
  },
  {
   "cell_type": "markdown",
   "metadata": {
    "id": "OgE-0BynEDVF"
   },
   "source": [
    "## Import using 'as' to create an alias \n",
    "* works just like an object, with the functions called like methods using the object.method type notation\n",
    "* just import the module once per notebook, once you run it the contents will be part of the global namespace and will be accessible by any code cell in the notebook\n"
   ]
  },
  {
   "cell_type": "code",
   "execution_count": null,
   "metadata": {
    "id": "bykvd9i_KOob"
   },
   "outputs": [],
   "source": [
    "import math_tools as mt"
   ]
  },
  {
   "cell_type": "code",
   "execution_count": null,
   "metadata": {
    "id": "LPhLWoPQERtL"
   },
   "outputs": [],
   "source": [
    "mt.square(10)"
   ]
  },
  {
   "cell_type": "markdown",
   "metadata": {
    "id": "lFuBHvwoEnu1"
   },
   "source": [
    "## Can also import just a specific function so that you can call it directly"
   ]
  },
  {
   "cell_type": "code",
   "execution_count": null,
   "metadata": {
    "id": "fqeCqI3INLmv"
   },
   "outputs": [],
   "source": [
    "from math_tools import cubed"
   ]
  },
  {
   "cell_type": "code",
   "execution_count": null,
   "metadata": {
    "id": "4J4vcqtHEq7v"
   },
   "outputs": [],
   "source": [
    "cubed(2)"
   ]
  },
  {
   "cell_type": "markdown",
   "metadata": {
    "id": "Q8-_cpmYEvoS"
   },
   "source": [
    "### Need to be very careful here!\n",
    "* add a 'list' function to our module...what happens? "
   ]
  },
  {
   "cell_type": "code",
   "execution_count": null,
   "metadata": {
    "colab": {
     "base_uri": "https://localhost:8080/"
    },
    "id": "pCutzqLAFOw0",
    "outputId": "d226f4bd-61fe-49aa-e85f-d5a72bcd3b05"
   },
   "outputs": [],
   "source": [
    "%%writefile math_tools.py\n",
    "\n",
    "def square(x):\n",
    "    y = x ** 2\n",
    "    return y\n",
    "\n",
    "def cubed(x):\n",
    "    y = x ** 3\n",
    "    return y\n",
    "\n",
    "def squrt(x):\n",
    "    y = x ** (1/2)\n",
    "    return y\n",
    "\n",
    "def times_ten(x):\n",
    "    y = x * 10\n",
    "    return y\n",
    "\n",
    "# list out our numbers\n",
    "def list(x):\n",
    "  for i in x:\n",
    "    print(i)\n"
   ]
  },
  {
   "cell_type": "markdown",
   "metadata": {
    "id": "jIUavG9SLXTv"
   },
   "source": [
    "## You might give something the same name as an important built in function...and in this case, it does something else that will cause errors down the road"
   ]
  },
  {
   "cell_type": "code",
   "execution_count": null,
   "metadata": {
    "id": "WaolL64vLpEq"
   },
   "outputs": [],
   "source": [
    "from math_tools import list"
   ]
  },
  {
   "cell_type": "markdown",
   "metadata": {
    "id": "RWPz_c41MUgq"
   },
   "source": [
    "### In this case we don't really hurt anything...\n"
   ]
  },
  {
   "cell_type": "code",
   "execution_count": null,
   "metadata": {
    "colab": {
     "base_uri": "https://localhost:8080/"
    },
    "id": "DMoYNWrqLZdd",
    "outputId": "d1b192eb-32fc-41ad-9759-0aaa46a63575"
   },
   "outputs": [],
   "source": [
    "list([10,20])"
   ]
  },
  {
   "cell_type": "markdown",
   "metadata": {
    "id": "abyP8d2YMONA"
   },
   "source": [
    "### But in this case things go totally wrong and you will tear your hair out figuring out what the bug is"
   ]
  },
  {
   "cell_type": "code",
   "execution_count": null,
   "metadata": {
    "colab": {
     "base_uri": "https://localhost:8080/",
     "height": 408
    },
    "id": "QCSmCoTlLco5",
    "outputId": "54a6b9cd-3503-4da9-ee27-35d2457b0d91"
   },
   "outputs": [],
   "source": [
    "x = list(range(0,10))\n",
    "\n",
    "y = 0\n",
    "for i in x:\n",
    "  y *= i\n",
    "\n",
    "print(y)"
   ]
  },
  {
   "cell_type": "markdown",
   "metadata": {
    "id": "1CoVjLfT_Fqq"
   },
   "source": [
    "## You can combine what we've learning so far to also give a specific function from a module an alias\n",
    "* again - rule here is that you should not sacrifice readability for short names...\n"
   ]
  },
  {
   "cell_type": "code",
   "execution_count": null,
   "metadata": {
    "id": "euhsZdyNNSMd"
   },
   "outputs": [],
   "source": [
    "from math_tools import cubed as cb"
   ]
  },
  {
   "cell_type": "code",
   "execution_count": null,
   "metadata": {
    "id": "uc-8A_YDLuCz"
   },
   "outputs": [],
   "source": [
    "cb(3)"
   ]
  },
  {
   "cell_type": "markdown",
   "metadata": {
    "id": "XI4mlxsgIbAs"
   },
   "source": [
    "## Bonus: Recursion...function calling itself!"
   ]
  },
  {
   "cell_type": "code",
   "execution_count": null,
   "metadata": {
    "id": "p-1nyQ7AIfLa"
   },
   "outputs": [],
   "source": [
    "def factorial(n):\n",
    "  if n == 1:\n",
    "    print('end of recursion')\n",
    "    return 1\n",
    "  else:\n",
    "    print('current value', n)\n",
    "    result = n * factorial(n-1)\n",
    "    return result"
   ]
  },
  {
   "cell_type": "code",
   "execution_count": null,
   "metadata": {
    "id": "xgpw6286CQBU"
   },
   "outputs": [],
   "source": [
    "print(factorial(4))"
   ]
  }
 ],
 "metadata": {
  "colab": {
   "collapsed_sections": [],
   "name": "TutorialCode_02152021_Part1.ipynb",
   "provenance": []
  },
  "kernelspec": {
   "display_name": "Python 3",
   "language": "python",
   "name": "python3"
  },
  "language_info": {
   "codemirror_mode": {
    "name": "ipython",
    "version": 3
   },
   "file_extension": ".py",
   "mimetype": "text/x-python",
   "name": "python",
   "nbconvert_exporter": "python",
   "pygments_lexer": "ipython3",
   "version": "3.8.5"
  }
 },
 "nbformat": 4,
 "nbformat_minor": 1
}
