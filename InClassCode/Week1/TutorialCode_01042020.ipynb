{
  "nbformat": 4,
  "nbformat_minor": 0,
  "metadata": {
    "colab": {
      "name": "TutorialCode_01042020.ipynb",
      "provenance": [],
      "collapsed_sections": []
    },
    "kernelspec": {
      "name": "python3",
      "display_name": "Python 3"
    }
  },
  "cells": [
    {
      "cell_type": "markdown",
      "metadata": {
        "id": "bu9dw_B2b6xg"
      },
      "source": [
        "# This is a markdown cell (or text cell). Here we can write notes about the purpose of the code, we can include links to external references. Text cells use the \"Markdown language\" to format the text. \n",
        "\n",
        "## next sub-heading with smaller text - use for the next level of notes in your code below\n",
        "\n",
        "### sub-sub-heading\n",
        "\n",
        "#### sub-sub-sub-heading, etc.\n",
        "\n",
        "* bullet points\n",
        "* another bullet point\n",
        "  * an indented sub-bullet point \n",
        "\n",
        "**if you want bold text** \n",
        "\n",
        "*italic text*\n",
        "\n",
        "[this is a link to a useful guide to the basics of markdown](https://www.markdownguide.org/basic-syntax/)"
      ]
    },
    {
      "cell_type": "markdown",
      "metadata": {
        "id": "iVJcNLEv8OEg"
      },
      "source": [
        "## A string is a collection of characters, surrounded by either single or double quotes\n",
        "* notice that because this is a sub-heading in our notebook that is one level down, we use '##' to change the size of the text "
      ]
    },
    {
      "cell_type": "code",
      "metadata": {
        "id": "DrvZWAtMtI2p"
      },
      "source": [
        "print(\"hello python!\")"
      ],
      "execution_count": null,
      "outputs": []
    },
    {
      "cell_type": "code",
      "metadata": {
        "id": "1gFSKgCW1LlP"
      },
      "source": [
        "message = \"hello python!\"\n",
        "print(message)"
      ],
      "execution_count": null,
      "outputs": []
    },
    {
      "cell_type": "markdown",
      "metadata": {
        "id": "fSMlDT_gG2vu"
      },
      "source": [
        "### Using ' vs \"\n",
        "* Note that this is a sub-sub-heading (under the sub-heading of our discussion on strings)*italicized text*, so we use '###'"
      ]
    },
    {
      "cell_type": "code",
      "metadata": {
        "id": "IbzQyP113cGq"
      },
      "source": [
        "message = \"hello python! we'll be back next monday\"\n",
        "print(message)"
      ],
      "execution_count": null,
      "outputs": []
    },
    {
      "cell_type": "code",
      "metadata": {
        "id": "Q8xJXbmTG_x5"
      },
      "source": [
        "# vs. \n",
        "message = 'hello python! we'll be back next monday'\n",
        "print(message)"
      ],
      "execution_count": null,
      "outputs": []
    },
    {
      "cell_type": "markdown",
      "metadata": {
        "id": "n72v5txYeWWF"
      },
      "source": [
        "## Using methods of an object (in this case a string object)"
      ]
    },
    {
      "cell_type": "code",
      "metadata": {
        "id": "218I8I5M38CS"
      },
      "source": [
        "name = \"joHn serencEs\"\n",
        "name.title()"
      ],
      "execution_count": null,
      "outputs": []
    },
    {
      "cell_type": "markdown",
      "metadata": {
        "id": "bgijxnN3egad"
      },
      "source": [
        "### why using print here? Because otherwise you just get the output of the last line - if you want to force output, then use the print statement"
      ]
    },
    {
      "cell_type": "code",
      "metadata": {
        "id": "aDUXq4mk40RQ"
      },
      "source": [
        "print(name.lower())\n",
        "print(name.upper())"
      ],
      "execution_count": null,
      "outputs": []
    },
    {
      "cell_type": "markdown",
      "metadata": {
        "id": "gfnINiyjf75o"
      },
      "source": [
        "## Some handy methods for data cleaning - make uniform str types...\n",
        "* useful for 'cleaning' non-uniform user input or labels in big data sets\n",
        "* this is by no means an exhaustive list of methods for the str object type! but if you can use these, then you should be able to figure out how to use many of the other methods"
      ]
    },
    {
      "cell_type": "code",
      "metadata": {
        "id": "yuJ1ifxs67z9"
      },
      "source": [
        "name = \" john \"\n",
        "print(name)\n",
        "print(name.rstrip())\n",
        "print(name.lstrip())\n",
        "print(name.strip())"
      ],
      "execution_count": null,
      "outputs": []
    },
    {
      "cell_type": "markdown",
      "metadata": {
        "id": "yrOBLgodfWbU"
      },
      "source": [
        "## Concatenating strings (sticking a bunch of strings together)"
      ]
    },
    {
      "cell_type": "code",
      "metadata": {
        "id": "q520tCV75Mc-"
      },
      "source": [
        "first_name = \"john\"\n",
        "last_name = \"serences\"\n",
        "full_name = first_name + \" \" + last_name + \" was here!\"\n",
        "print(full_name.title())"
      ],
      "execution_count": null,
      "outputs": []
    },
    {
      "cell_type": "markdown",
      "metadata": {
        "id": "nbBFpDnuFSOz"
      },
      "source": [
        "## Numerical data types and basic operators [list of operators](https://www.w3schools.com/python/python_operators.asp)\n",
        "* integers are whole numbers"
      ]
    },
    {
      "cell_type": "code",
      "metadata": {
        "id": "ZVCwt3lk8M6M"
      },
      "source": [
        "# int data types (objects)\n",
        "# integers are WHOLE numbers\n",
        "x = 2\n",
        "y = 3\n",
        "\n",
        "# basic operations\n",
        "print(x+y)    # add\n",
        "print(y-x)    # subtract\n",
        "print(x*y)    # multiply\n",
        "print(x**y)   # raise to a power"
      ],
      "execution_count": null,
      "outputs": []
    },
    {
      "cell_type": "markdown",
      "metadata": {
        "id": "DpX4ZHkQgXYU"
      },
      "source": [
        "## Floating point numbers"
      ]
    },
    {
      "cell_type": "code",
      "metadata": {
        "id": "aexlGXFGCC8X"
      },
      "source": [
        "# this returns a floating point number (decimal)\n",
        "print(x/y)"
      ],
      "execution_count": null,
      "outputs": []
    },
    {
      "cell_type": "markdown",
      "metadata": {
        "id": "2mjS8gDyE0JX"
      },
      "source": [
        "## How do you figure out what the variable type is? "
      ]
    },
    {
      "cell_type": "code",
      "metadata": {
        "id": "5cRsFCD5EoBJ"
      },
      "source": [
        "print(type(x))"
      ],
      "execution_count": null,
      "outputs": []
    },
    {
      "cell_type": "markdown",
      "metadata": {
        "id": "HkUF-0S9CwLg"
      },
      "source": [
        "## Type casting - changing a variable from one type to another"
      ]
    },
    {
      "cell_type": "code",
      "metadata": {
        "id": "q1aHy83n-CPX"
      },
      "source": [
        "# type casting - first int to string\n",
        "year = 2019\n",
        "print(\"this is the year: \" + str(year))"
      ],
      "execution_count": null,
      "outputs": []
    },
    {
      "cell_type": "markdown",
      "metadata": {
        "id": "ifgtis7GgsvC"
      },
      "source": [
        "### Then string to int and then back to str!"
      ]
    },
    {
      "cell_type": "code",
      "metadata": {
        "id": "3PqhjAOogwrr",
        "colab": {
          "base_uri": "https://localhost:8080/"
        },
        "outputId": "bca9a67c-755d-417b-a1b4-0b5b2673d930"
      },
      "source": [
        "# then string to an int\n",
        "year = \"2021\"\n",
        "print(\"In 10 years it will be: \" + str(int(year) + 10))"
      ],
      "execution_count": 2,
      "outputs": [
        {
          "output_type": "stream",
          "text": [
            "In 10 years it will be: 2031\n"
          ],
          "name": "stdout"
        }
      ]
    },
    {
      "cell_type": "markdown",
      "metadata": {
        "id": "Iwp1FT4-Ejwp"
      },
      "source": [
        "### You can convert from one type to another with the int(), float(), complex()\n",
        "* be careful though as **sometimes there are significant consequences!**\n",
        "  * for example, casting a float to an int will cause everything to the right of the decimal place to be truncated"
      ]
    },
    {
      "cell_type": "code",
      "metadata": {
        "id": "4HL9Ct80EmIn"
      },
      "source": [
        "# make a floating point number and then type cast as an int to see what happens\n",
        "x = 2.9\n",
        "print(int(x)) # does not ROUND!!! truncates"
      ],
      "execution_count": null,
      "outputs": []
    }
  ]
}