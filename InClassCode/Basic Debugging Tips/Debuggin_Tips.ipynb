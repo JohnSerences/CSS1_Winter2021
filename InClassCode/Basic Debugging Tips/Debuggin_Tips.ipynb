{
 "cells": [
  {
   "cell_type": "markdown",
   "metadata": {
    "id": "YNLcxuhrl9Ht"
   },
   "source": [
    "# Basic debugging tips"
   ]
  },
  {
   "cell_type": "markdown",
   "metadata": {
    "id": "NEitccHmNed9"
   },
   "source": [
    "* If your functions aren’t working as expected, use the following debugging techniques:\n",
    "  * Print each of the inputs and their types to make sure your inputs are correct. Use the type() function to get a variables type.\n",
    "  * Come up with test cases whose answers you can calculate manually and then check if your function outputs the same answers.\n",
    "  * Make sure you are returning the output of your function.\n",
    "To debug loops, print the variables that are changing in your loop and do so by formatting them in well written print statements.\n",
    "  * Use good variable names. Long variable names are any day better than short and uninformative ones.\n",
    "  * When you google, make sure you are searching for Python 3 stuff, not Python 2!\n",
    "  * At the end, Restart and Run all cells to make sure everything is working as expected.\n"
   ]
  },
  {
   "cell_type": "markdown",
   "metadata": {
    "id": "WcoWTsHYUraR"
   },
   "source": [
    "## printing things out...\n",
    "* easiest way to debug, and super useful for simple applications\n",
    "* e.g. here we want to square a list of numbers, but we make a mistake. Instead of for i in nums (which is what we want), we loop over the length of nums (for i in range(len(nums))). So instead of squaring the actual list of numbers, we are squaring 0,1,2...N, where N is the length of the list of numbers\n",
    "* inserting a simple print statement to show us what 'i' is each time we go through the loop is super helpful...\n",
    "  * allows us to see that i is 0,1 instead of 10,12..."
   ]
  },
  {
   "cell_type": "code",
   "execution_count": null,
   "metadata": {
    "id": "ismQ5yjYNgAh"
   },
   "outputs": [],
   "source": [
    "# write a function to square a variable length list of numbers\n",
    "def sqr_list(*nums):\n",
    "  out = []\n",
    "  for i in range(len(nums)):\n",
    "    print(\"i is:\", i)\n",
    "    out.append(i**2)\n",
    "    \n",
    "  return out"
   ]
  },
  {
   "cell_type": "code",
   "execution_count": null,
   "metadata": {
    "colab": {
     "base_uri": "https://localhost:8080/"
    },
    "id": "pQxz6AkMUJCP",
    "outputId": "60ad9dbd-0fc2-49db-fe61-5162dfe4571e"
   },
   "outputs": [],
   "source": [
    "sqr_list(10,12)"
   ]
  },
  {
   "cell_type": "markdown",
   "metadata": {
    "id": "8H1Dll5wQW6o"
   },
   "source": [
    "## use the %pdb \"line magic\" [more on line magics next week, but they basically add functionality in the ipython notebook environment]\n",
    "* good for when you're getting an error and not sure why\n",
    "* %pdb 1 will turn the debugger on\n",
    "* %pdb 0 will turn the debugger off\n",
    "* will stop execution at the error and enter \"debug\" mode\n",
    "  * this will launch a 'command line', and at the command line you can type in variable names and do other operations to test your code\n",
    "* type 'q' at the command line to exit debugging mode"
   ]
  },
  {
   "cell_type": "code",
   "execution_count": null,
   "metadata": {
    "colab": {
     "base_uri": "https://localhost:8080/"
    },
    "id": "6ei1LwofUYMh",
    "outputId": "a77d15b2-420a-48d1-8882-5a6208241a13"
   },
   "outputs": [],
   "source": [
    "%pdb 1"
   ]
  },
  {
   "cell_type": "code",
   "execution_count": null,
   "metadata": {
    "id": "g5whfzoYUald"
   },
   "outputs": [],
   "source": [
    "# write a function to square a variable length list of numbers\n",
    "def sqr_list(*nums):\n",
    "  out = []\n",
    "  for i in range(len(nums)):\n",
    "    # name error!\n",
    "    outl.append(i**2)\n",
    "\n",
    "  return out"
   ]
  },
  {
   "cell_type": "code",
   "execution_count": null,
   "metadata": {
    "colab": {
     "base_uri": "https://localhost:8080/",
     "height": 465
    },
    "id": "GCI5g_jfUeWF",
    "outputId": "792f4855-663e-4fd1-bde7-2d8e62a2251b"
   },
   "outputs": [],
   "source": [
    "sqr_list(10,12)"
   ]
  },
  {
   "cell_type": "markdown",
   "metadata": {
    "id": "1x92SRw1NgO8"
   },
   "source": [
    "## One built in debugger using: pdb.set_trace()\n",
    "* will set a breakpoint at a fixed location\n",
    "* when breakpoint reached, you will enter debug mode and a command line will pop up similar to the one you get with %pdb 1 line magic\n"
   ]
  },
  {
   "cell_type": "code",
   "execution_count": null,
   "metadata": {
    "id": "jIZAF8XrNjzd"
   },
   "outputs": [],
   "source": [
    "import pdb"
   ]
  },
  {
   "cell_type": "code",
   "execution_count": null,
   "metadata": {
    "id": "JioOwKY0Noa7"
   },
   "outputs": [],
   "source": [
    "# write a function to square a variable length list of numbers\n",
    "def sqr_list(*nums):\n",
    "  out = []\n",
    "  for i in range(len(nums)):\n",
    "    pdb.set_trace()\n",
    "    out.append(i**2)\n",
    "\n",
    "  return out"
   ]
  },
  {
   "cell_type": "code",
   "execution_count": null,
   "metadata": {
    "id": "uhIMyuV-ODgR"
   },
   "outputs": [],
   "source": [
    "sqr_list(10,20)"
   ]
  }
 ],
 "metadata": {
  "colab": {
   "collapsed_sections": [],
   "name": "Debuggin_Tips.ipynb",
   "provenance": []
  },
  "kernelspec": {
   "display_name": "Python 3",
   "language": "python",
   "name": "python3"
  },
  "language_info": {
   "codemirror_mode": {
    "name": "ipython",
    "version": 3
   },
   "file_extension": ".py",
   "mimetype": "text/x-python",
   "name": "python",
   "nbconvert_exporter": "python",
   "pygments_lexer": "ipython3",
   "version": "3.8.5"
  }
 },
 "nbformat": 4,
 "nbformat_minor": 1
}
